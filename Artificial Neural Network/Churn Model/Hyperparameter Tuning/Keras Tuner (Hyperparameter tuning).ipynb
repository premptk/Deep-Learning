{
 "cells": [
  {
   "cell_type": "markdown",
   "id": "07e305a8",
   "metadata": {},
   "source": [
    "### Keras Tuner - Decide Number of Hidden Layers and Neural in Neural Network"
   ]
  },
  {
   "cell_type": "code",
   "execution_count": 3,
   "id": "46c59fd6",
   "metadata": {},
   "outputs": [],
   "source": [
    "import pandas as pd\n",
    "from tensorflow import keras\n",
    "from tensorflow.keras import layers\n",
    "from keras_tuner.tuners import RandomSearch"
   ]
  },
  {
   "cell_type": "code",
   "execution_count": 10,
   "id": "3e3327c9",
   "metadata": {},
   "outputs": [
    {
     "name": "stdout",
     "output_type": "stream",
     "text": [
      "      T    TM   Tm     SLP     H   VV    V    VM      PM 2.5\n",
      "1   7.4   9.8  4.8  1017.6  93.0  0.5  4.3   9.4  219.720833\n",
      "3   7.8  12.7  4.4  1018.5  87.0  0.6  4.4  11.1  182.187500\n",
      "5   6.7  13.4  2.4  1019.4  82.0  0.6  4.8  11.1  154.037500\n",
      "7   8.6  15.5  3.3  1018.7  72.0  0.8  8.1  20.6  223.208333\n",
      "9  12.4  20.9  4.4  1017.3  61.0  1.3  8.7  22.2  200.645833\n",
      "(1092, 9)\n"
     ]
    }
   ],
   "source": [
    "df = pd.read_csv('Real_Combine.csv')\n",
    "df.dropna(inplace=True)\n",
    "print(df.head())\n",
    "print(df.shape)"
   ]
  },
  {
   "cell_type": "code",
   "execution_count": 7,
   "id": "4cc27fae",
   "metadata": {},
   "outputs": [],
   "source": [
    "X = df.iloc[:,:-1]  #independent feature\n",
    "y = df.iloc[:,-1]  #dependent feature"
   ]
  },
  {
   "cell_type": "markdown",
   "id": "fb3b168b",
   "metadata": {},
   "source": [
    "### Hyperparameters\n",
    "1. How many number of hidden layer should we have?\n",
    "2. How many number of neurons should we have?\n",
    "3. Learning Rate"
   ]
  },
  {
   "cell_type": "code",
   "execution_count": 13,
   "id": "848c78cd",
   "metadata": {},
   "outputs": [],
   "source": [
    "def build_model(hp):\n",
    "    model = keras.Sequential()\n",
    "    for i in range(hp.Int('num_layer',2,20)):\n",
    "        model.add(layers.Dense(units = hp.Int('units_'+str(i),\n",
    "                                             min_value=32,\n",
    "                                             max_value=512,\n",
    "                                             step=32),\n",
    "                              activation='relu'))\n",
    "    model.add(layers.Dense(1, activation='linear'))\n",
    "    model.compile(\n",
    "        optimizer = keras.optimizers.Adam(\n",
    "            hp.Choice('learning_rate',[1e-2, 1e-3, 1e-4])),\n",
    "        loss='mean_absolute_error',\n",
    "        metrics=['mean_absolute_error'])\n",
    "    return model"
   ]
  },
  {
   "cell_type": "code",
   "execution_count": 14,
   "id": "6ed21ef1",
   "metadata": {},
   "outputs": [],
   "source": [
    "tuner = RandomSearch(\n",
    "    build_model,\n",
    "    objective='val_mean_absolute_error',\n",
    "    max_trials=5,\n",
    "    executions_per_trial=3,\n",
    "    directory='project',\n",
    "    project_name='Air Quality Index')"
   ]
  },
  {
   "cell_type": "code",
   "execution_count": 15,
   "id": "08b4345b",
   "metadata": {},
   "outputs": [
    {
     "name": "stdout",
     "output_type": "stream",
     "text": [
      "Search space summary\n",
      "Default search space size: 4\n",
      "num_layer (Int)\n",
      "{'default': None, 'conditions': [], 'min_value': 2, 'max_value': 20, 'step': 1, 'sampling': None}\n",
      "units_0 (Int)\n",
      "{'default': None, 'conditions': [], 'min_value': 32, 'max_value': 512, 'step': 32, 'sampling': None}\n",
      "units_1 (Int)\n",
      "{'default': None, 'conditions': [], 'min_value': 32, 'max_value': 512, 'step': 32, 'sampling': None}\n",
      "learning_rate (Choice)\n",
      "{'default': 0.01, 'conditions': [], 'values': [0.01, 0.001, 0.0001], 'ordered': True}\n"
     ]
    }
   ],
   "source": [
    "tuner.search_space_summary()"
   ]
  },
  {
   "cell_type": "code",
   "execution_count": 16,
   "id": "34d7bccc",
   "metadata": {},
   "outputs": [],
   "source": [
    "from sklearn.model_selection import train_test_split\n",
    "X_train, X_test, y_train, y_test = train_test_split(X, y, test_size=0.3, random_state=0)"
   ]
  },
  {
   "cell_type": "code",
   "execution_count": 18,
   "id": "f70b23e2",
   "metadata": {
    "scrolled": false
   },
   "outputs": [
    {
     "name": "stdout",
     "output_type": "stream",
     "text": [
      "Trial 6 Complete [00h 00m 11s]\n",
      "val_mean_absolute_error: 48.30751927693685\n",
      "\n",
      "Best val_mean_absolute_error So Far: 48.30751927693685\n",
      "Total elapsed time: 00h 01m 25s\n",
      "INFO:tensorflow:Oracle triggered exit\n"
     ]
    }
   ],
   "source": [
    "tuner.search(X_train, y_train, epochs=5, validation_data=(X_test, y_test))"
   ]
  },
  {
   "cell_type": "code",
   "execution_count": 20,
   "id": "2588c841",
   "metadata": {
    "scrolled": false
   },
   "outputs": [
    {
     "name": "stdout",
     "output_type": "stream",
     "text": [
      "Results summary\n",
      "Results in project\\Air Quality Index\n",
      "Showing 10 best trials\n",
      "Objective(name='val_mean_absolute_error', direction='min')\n",
      "Trial summary\n",
      "Hyperparameters:\n",
      "num_layer: 6\n",
      "units_0: 256\n",
      "units_1: 480\n",
      "learning_rate: 0.01\n",
      "units_2: 224\n",
      "units_3: 32\n",
      "units_4: 128\n",
      "units_5: 480\n",
      "units_6: 128\n",
      "units_7: 384\n",
      "units_8: 384\n",
      "units_9: 480\n",
      "units_10: 96\n",
      "units_11: 384\n",
      "units_12: 288\n",
      "units_13: 64\n",
      "units_14: 160\n",
      "units_15: 384\n",
      "units_16: 448\n",
      "units_17: 128\n",
      "Score: 48.30751927693685\n",
      "Trial summary\n",
      "Hyperparameters:\n",
      "num_layer: 10\n",
      "units_0: 416\n",
      "units_1: 224\n",
      "learning_rate: 0.001\n",
      "units_2: 32\n",
      "units_3: 32\n",
      "units_4: 32\n",
      "units_5: 32\n",
      "units_6: 32\n",
      "units_7: 32\n",
      "units_8: 32\n",
      "units_9: 32\n",
      "Score: 64.04886881510417\n",
      "Trial summary\n",
      "Hyperparameters:\n",
      "num_layer: 10\n",
      "units_0: 288\n",
      "units_1: 288\n",
      "learning_rate: 0.0001\n",
      "units_2: 256\n",
      "units_3: 128\n",
      "units_4: 192\n",
      "units_5: 448\n",
      "units_6: 512\n",
      "units_7: 416\n",
      "units_8: 384\n",
      "units_9: 384\n",
      "Score: 64.28427505493164\n",
      "Trial summary\n",
      "Hyperparameters:\n",
      "num_layer: 5\n",
      "units_0: 352\n",
      "units_1: 224\n",
      "learning_rate: 0.0001\n",
      "units_2: 128\n",
      "units_3: 256\n",
      "units_4: 160\n",
      "units_5: 96\n",
      "units_6: 96\n",
      "units_7: 448\n",
      "units_8: 32\n",
      "units_9: 96\n",
      "units_10: 288\n",
      "units_11: 160\n",
      "units_12: 384\n",
      "units_13: 384\n",
      "units_14: 64\n",
      "units_15: 352\n",
      "units_16: 192\n",
      "units_17: 512\n",
      "Score: 64.30427551269531\n",
      "Trial summary\n",
      "Hyperparameters:\n",
      "num_layer: 18\n",
      "units_0: 288\n",
      "units_1: 32\n",
      "learning_rate: 0.01\n",
      "units_2: 224\n",
      "units_3: 288\n",
      "units_4: 192\n",
      "units_5: 416\n",
      "units_6: 448\n",
      "units_7: 160\n",
      "units_8: 64\n",
      "units_9: 160\n",
      "units_10: 32\n",
      "units_11: 32\n",
      "units_12: 32\n",
      "units_13: 32\n",
      "units_14: 32\n",
      "units_15: 32\n",
      "units_16: 32\n",
      "units_17: 32\n",
      "Score: 65.00345102945964\n"
     ]
    }
   ],
   "source": [
    "tuner.results_summary()"
   ]
  },
  {
   "cell_type": "code",
   "execution_count": null,
   "id": "905a89c3",
   "metadata": {},
   "outputs": [],
   "source": []
  }
 ],
 "metadata": {
  "kernelspec": {
   "display_name": "Python 3",
   "language": "python",
   "name": "python3"
  },
  "language_info": {
   "codemirror_mode": {
    "name": "ipython",
    "version": 3
   },
   "file_extension": ".py",
   "mimetype": "text/x-python",
   "name": "python",
   "nbconvert_exporter": "python",
   "pygments_lexer": "ipython3",
   "version": "3.8.11"
  }
 },
 "nbformat": 4,
 "nbformat_minor": 5
}
