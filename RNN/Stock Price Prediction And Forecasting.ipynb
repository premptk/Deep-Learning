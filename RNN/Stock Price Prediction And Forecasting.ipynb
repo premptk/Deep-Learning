{
 "cells": [
  {
   "cell_type": "code",
   "execution_count": 1,
   "id": "513ea611",
   "metadata": {},
   "outputs": [],
   "source": [
    "import pandas_datareader as pdr"
   ]
  },
  {
   "cell_type": "code",
   "execution_count": 3,
   "id": "0f5ced1d",
   "metadata": {},
   "outputs": [
    {
     "name": "stderr",
     "output_type": "stream",
     "text": [
      "C:\\Users\\Prem Ranjan\\anaconda3\\envs\\tensorflow\\lib\\site-packages\\pandas_datareader\\tiingo.py:234: FutureWarning: In a future version of pandas all arguments of concat except for the argument 'objs' will be keyword-only\n",
      "  return pd.concat(dfs, self._concat_axis)\n"
     ]
    }
   ],
   "source": [
    "df = pdr.get_data_tiingo('AAPL', api_key=key)"
   ]
  },
  {
   "cell_type": "code",
   "execution_count": 4,
   "id": "c4446bdf",
   "metadata": {},
   "outputs": [],
   "source": [
    "df.to_csv('AAPL.csv')"
   ]
  },
  {
   "cell_type": "code",
   "execution_count": 5,
   "id": "00229650",
   "metadata": {},
   "outputs": [],
   "source": [
    "import pandas as pd"
   ]
  },
  {
   "cell_type": "code",
   "execution_count": 6,
   "id": "09eff20f",
   "metadata": {},
   "outputs": [],
   "source": [
    "df = pd.read_csv('AAPL.csv')"
   ]
  },
  {
   "cell_type": "code",
   "execution_count": 7,
   "id": "7cdea552",
   "metadata": {},
   "outputs": [
    {
     "data": {
      "text/html": [
       "<div>\n",
       "<style scoped>\n",
       "    .dataframe tbody tr th:only-of-type {\n",
       "        vertical-align: middle;\n",
       "    }\n",
       "\n",
       "    .dataframe tbody tr th {\n",
       "        vertical-align: top;\n",
       "    }\n",
       "\n",
       "    .dataframe thead th {\n",
       "        text-align: right;\n",
       "    }\n",
       "</style>\n",
       "<table border=\"1\" class=\"dataframe\">\n",
       "  <thead>\n",
       "    <tr style=\"text-align: right;\">\n",
       "      <th></th>\n",
       "      <th>symbol</th>\n",
       "      <th>date</th>\n",
       "      <th>close</th>\n",
       "      <th>high</th>\n",
       "      <th>low</th>\n",
       "      <th>open</th>\n",
       "      <th>volume</th>\n",
       "      <th>adjClose</th>\n",
       "      <th>adjHigh</th>\n",
       "      <th>adjLow</th>\n",
       "      <th>adjOpen</th>\n",
       "      <th>adjVolume</th>\n",
       "      <th>divCash</th>\n",
       "      <th>splitFactor</th>\n",
       "    </tr>\n",
       "  </thead>\n",
       "  <tbody>\n",
       "    <tr>\n",
       "      <th>0</th>\n",
       "      <td>AAPL</td>\n",
       "      <td>2016-09-02 00:00:00+00:00</td>\n",
       "      <td>107.73</td>\n",
       "      <td>108.00</td>\n",
       "      <td>106.82</td>\n",
       "      <td>107.70</td>\n",
       "      <td>26802450</td>\n",
       "      <td>25.253828</td>\n",
       "      <td>25.317120</td>\n",
       "      <td>25.040507</td>\n",
       "      <td>25.246795</td>\n",
       "      <td>107209800</td>\n",
       "      <td>0.0</td>\n",
       "      <td>1.0</td>\n",
       "    </tr>\n",
       "    <tr>\n",
       "      <th>1</th>\n",
       "      <td>AAPL</td>\n",
       "      <td>2016-09-06 00:00:00+00:00</td>\n",
       "      <td>107.70</td>\n",
       "      <td>108.30</td>\n",
       "      <td>107.51</td>\n",
       "      <td>107.90</td>\n",
       "      <td>26880391</td>\n",
       "      <td>25.246795</td>\n",
       "      <td>25.387446</td>\n",
       "      <td>25.202256</td>\n",
       "      <td>25.293679</td>\n",
       "      <td>107521564</td>\n",
       "      <td>0.0</td>\n",
       "      <td>1.0</td>\n",
       "    </tr>\n",
       "    <tr>\n",
       "      <th>2</th>\n",
       "      <td>AAPL</td>\n",
       "      <td>2016-09-07 00:00:00+00:00</td>\n",
       "      <td>108.36</td>\n",
       "      <td>108.76</td>\n",
       "      <td>107.07</td>\n",
       "      <td>107.83</td>\n",
       "      <td>42364328</td>\n",
       "      <td>25.401511</td>\n",
       "      <td>25.495278</td>\n",
       "      <td>25.099112</td>\n",
       "      <td>25.277269</td>\n",
       "      <td>169457312</td>\n",
       "      <td>0.0</td>\n",
       "      <td>1.0</td>\n",
       "    </tr>\n",
       "    <tr>\n",
       "      <th>3</th>\n",
       "      <td>AAPL</td>\n",
       "      <td>2016-09-08 00:00:00+00:00</td>\n",
       "      <td>105.52</td>\n",
       "      <td>107.27</td>\n",
       "      <td>105.24</td>\n",
       "      <td>107.25</td>\n",
       "      <td>53002026</td>\n",
       "      <td>24.735764</td>\n",
       "      <td>25.145995</td>\n",
       "      <td>24.670127</td>\n",
       "      <td>25.141307</td>\n",
       "      <td>212008104</td>\n",
       "      <td>0.0</td>\n",
       "      <td>1.0</td>\n",
       "    </tr>\n",
       "    <tr>\n",
       "      <th>4</th>\n",
       "      <td>AAPL</td>\n",
       "      <td>2016-09-09 00:00:00+00:00</td>\n",
       "      <td>103.13</td>\n",
       "      <td>105.72</td>\n",
       "      <td>103.13</td>\n",
       "      <td>104.64</td>\n",
       "      <td>46556984</td>\n",
       "      <td>24.175506</td>\n",
       "      <td>24.782648</td>\n",
       "      <td>24.175506</td>\n",
       "      <td>24.529477</td>\n",
       "      <td>186227936</td>\n",
       "      <td>0.0</td>\n",
       "      <td>1.0</td>\n",
       "    </tr>\n",
       "  </tbody>\n",
       "</table>\n",
       "</div>"
      ],
      "text/plain": [
       "  symbol                       date   close    high     low    open    volume  \\\n",
       "0   AAPL  2016-09-02 00:00:00+00:00  107.73  108.00  106.82  107.70  26802450   \n",
       "1   AAPL  2016-09-06 00:00:00+00:00  107.70  108.30  107.51  107.90  26880391   \n",
       "2   AAPL  2016-09-07 00:00:00+00:00  108.36  108.76  107.07  107.83  42364328   \n",
       "3   AAPL  2016-09-08 00:00:00+00:00  105.52  107.27  105.24  107.25  53002026   \n",
       "4   AAPL  2016-09-09 00:00:00+00:00  103.13  105.72  103.13  104.64  46556984   \n",
       "\n",
       "    adjClose    adjHigh     adjLow    adjOpen  adjVolume  divCash  splitFactor  \n",
       "0  25.253828  25.317120  25.040507  25.246795  107209800      0.0          1.0  \n",
       "1  25.246795  25.387446  25.202256  25.293679  107521564      0.0          1.0  \n",
       "2  25.401511  25.495278  25.099112  25.277269  169457312      0.0          1.0  \n",
       "3  24.735764  25.145995  24.670127  25.141307  212008104      0.0          1.0  \n",
       "4  24.175506  24.782648  24.175506  24.529477  186227936      0.0          1.0  "
      ]
     },
     "execution_count": 7,
     "metadata": {},
     "output_type": "execute_result"
    }
   ],
   "source": [
    "df.head()"
   ]
  },
  {
   "cell_type": "code",
   "execution_count": 8,
   "id": "15f4cdf0",
   "metadata": {},
   "outputs": [
    {
     "data": {
      "text/plain": [
       "(1257, 14)"
      ]
     },
     "execution_count": 8,
     "metadata": {},
     "output_type": "execute_result"
    }
   ],
   "source": [
    "df.shape"
   ]
  },
  {
   "cell_type": "code",
   "execution_count": 9,
   "id": "13ba4721",
   "metadata": {},
   "outputs": [
    {
     "data": {
      "text/plain": [
       "0    107.73\n",
       "1    107.70\n",
       "2    108.36\n",
       "3    105.52\n",
       "4    103.13\n",
       "Name: close, dtype: float64"
      ]
     },
     "execution_count": 9,
     "metadata": {},
     "output_type": "execute_result"
    }
   ],
   "source": [
    "df1 = df.reset_index()['close']\n",
    "df1.head()"
   ]
  },
  {
   "cell_type": "code",
   "execution_count": 10,
   "id": "6e9fe1d8",
   "metadata": {},
   "outputs": [
    {
     "data": {
      "text/plain": [
       "(1257,)"
      ]
     },
     "execution_count": 10,
     "metadata": {},
     "output_type": "execute_result"
    }
   ],
   "source": [
    "df1.shape"
   ]
  },
  {
   "cell_type": "code",
   "execution_count": 11,
   "id": "4c378a25",
   "metadata": {
    "scrolled": false
   },
   "outputs": [
    {
     "data": {
      "image/png": "[encoded data removed]",
      "text/plain": [
       "<Figure size 640x480 with 1 Axes>"
      ]
     },
     "metadata": {},
     "output_type": "display_data"
    }
   ],
   "source": [
    "import matplotlib.pyplot as plt\n",
    "plt.plot(df1)\n",
    "plt.show()"
   ]
  },
  {
   "cell_type": "markdown",
   "id": "b9cc4ef7",
   "metadata": {},
   "source": [
    "This graph shows movement in the timespan ranging `2016-2021`"
   ]
  },
  {
   "cell_type": "code",
   "execution_count": 12,
   "id": "42e865ed",
   "metadata": {},
   "outputs": [
    {
     "data": {
      "text/plain": [
       "(1257, 1)"
      ]
     },
     "execution_count": 12,
     "metadata": {},
     "output_type": "execute_result"
    }
   ],
   "source": [
    "## LSTM is very sensitive to the scale of data, we have apply MinMax Scaler\n",
    "import numpy as np\n",
    "from sklearn.preprocessing import MinMaxScaler\n",
    "scaler = MinMaxScaler(feature_range=(0,1))\n",
    "df1=scaler.fit_transform(np.array(df1).reshape(-1,1))\n",
    "df1.shape"
   ]
  },
  {
   "cell_type": "code",
   "execution_count": 13,
   "id": "6034fc18",
   "metadata": {},
   "outputs": [
    {
     "data": {
      "text/plain": [
       "array([[0.01141553],\n",
       "       [0.01134108],\n",
       "       [0.01297896],\n",
       "       [0.00593111],\n",
       "       [0.        ]])"
      ]
     },
     "execution_count": 13,
     "metadata": {},
     "output_type": "execute_result"
    }
   ],
   "source": [
    "df1[:5]"
   ]
  },
  {
   "cell_type": "code",
   "execution_count": 14,
   "id": "ccb85be7",
   "metadata": {},
   "outputs": [],
   "source": [
    "## Spliting the training and testing dataset\n",
    "training_size = int(len(df1)*0.65)\n",
    "test_size = len(df1) - training_size\n",
    "train_data,test_data = df1[0:training_size,:], df1[training_size:len(df1),:1]"
   ]
  },
  {
   "cell_type": "code",
   "execution_count": 15,
   "id": "9d765b03",
   "metadata": {},
   "outputs": [
    {
     "data": {
      "text/plain": [
       "(817, 440)"
      ]
     },
     "execution_count": 15,
     "metadata": {},
     "output_type": "execute_result"
    }
   ],
   "source": [
    "training_size, test_size"
   ]
  },
  {
   "cell_type": "code",
   "execution_count": 16,
   "id": "e64c03d0",
   "metadata": {},
   "outputs": [
    {
     "data": {
      "text/plain": [
       "array([[0.01141553],\n",
       "       [0.01134108],\n",
       "       [0.01297896],\n",
       "       [0.00593111],\n",
       "       [0.        ]])"
      ]
     },
     "execution_count": 16,
     "metadata": {},
     "output_type": "execute_result"
    }
   ],
   "source": [
    "train_data[:5]"
   ]
  },
  {
   "cell_type": "code",
   "execution_count": 17,
   "id": "5e5e5b32",
   "metadata": {},
   "outputs": [],
   "source": [
    "## converting an array of values into a dataset matrix\n",
    "def create_dataset(dataset, time_steps=1):\n",
    "    dataX, dataY = [], []\n",
    "    for i in range(len(dataset) - time_step -1):\n",
    "        a = dataset[i:(i+time_step),0]\n",
    "        dataX.append(a)\n",
    "        dataY.append(dataset[i+time_step,0])\n",
    "    return np.array(dataX), np.array(dataY)"
   ]
  },
  {
   "cell_type": "code",
   "execution_count": 18,
   "id": "db9dd2d5",
   "metadata": {},
   "outputs": [],
   "source": [
    "## reshape into X=t,t+1,t+2 and Y=t+4\n",
    "time_step = 100\n",
    "X_train,y_train = create_dataset(train_data, time_step)\n",
    "X_test, y_test = create_dataset(test_data, time_step)"
   ]
  },
  {
   "cell_type": "code",
   "execution_count": 19,
   "id": "963a40a5",
   "metadata": {},
   "outputs": [
    {
     "name": "stdout",
     "output_type": "stream",
     "text": [
      "[[0.01141553 0.01134108 0.01297896 ... 0.04179075 0.04653067 0.04667957]\n",
      " [0.01134108 0.01297896 0.00593111 ... 0.04653067 0.04667957 0.04670439]\n",
      " [0.01297896 0.00593111 0.         ... 0.04667957 0.04670439 0.04591026]\n",
      " ...\n",
      " [0.2404457  0.2434733  0.24841175 ... 0.39428231 0.39371153 0.40510224]\n",
      " [0.2434733  0.24841175 0.24473893 ... 0.39371153 0.40510224 0.39994044]\n",
      " [0.24841175 0.24473893 0.24858547 ... 0.40510224 0.39994044 0.40875025]]\n"
     ]
    }
   ],
   "source": [
    "print(X_train)"
   ]
  },
  {
   "cell_type": "code",
   "execution_count": 20,
   "id": "694fa2a7",
   "metadata": {},
   "outputs": [
    {
     "name": "stdout",
     "output_type": "stream",
     "text": [
      "(339, 100) (339,)\n"
     ]
    }
   ],
   "source": [
    "print(X_test.shape, y_test.shape)"
   ]
  },
  {
   "cell_type": "code",
   "execution_count": 21,
   "id": "b34e60f3",
   "metadata": {},
   "outputs": [
    {
     "name": "stdout",
     "output_type": "stream",
     "text": [
      "(716, 100) (716,)\n"
     ]
    }
   ],
   "source": [
    "print(X_train.shape, y_train.shape)"
   ]
  },
  {
   "cell_type": "code",
   "execution_count": 22,
   "id": "e3517a55",
   "metadata": {},
   "outputs": [],
   "source": [
    "## reshaping input to 3-dimensional for LSTM\n",
    "X_train = X_train.reshape(X_train.shape[0], X_train.shape[1], 1)\n",
    "X_test = X_test.reshape(X_test.shape[0], X_test.shape[1], 1)"
   ]
  },
  {
   "cell_type": "code",
   "execution_count": 23,
   "id": "a7b9a286",
   "metadata": {},
   "outputs": [
    {
     "name": "stdout",
     "output_type": "stream",
     "text": [
      "(716, 100, 1) (339, 100, 1)\n"
     ]
    }
   ],
   "source": [
    "print(X_train.shape, X_test.shape)"
   ]
  },
  {
   "cell_type": "code",
   "execution_count": 24,
   "id": "766711d8",
   "metadata": {},
   "outputs": [],
   "source": [
    "## Creating the LSTM Model\n",
    "from tensorflow.keras.models import Sequential\n",
    "from tensorflow.keras.layers import LSTM\n",
    "from tensorflow.keras.layers import Dense"
   ]
  },
  {
   "cell_type": "code",
   "execution_count": 25,
   "id": "ca5371a4",
   "metadata": {},
   "outputs": [],
   "source": [
    "model = Sequential()\n",
    "model.add(LSTM(50,return_sequences=True, input_shape=(100,1)))\n",
    "model.add(LSTM(50,return_sequences=True))\n",
    "model.add(LSTM(50))\n",
    "model.add(Dense(1))\n",
    "model.compile(loss='mean_squared_error', optimizer='adam')"
   ]
  },
  {
   "cell_type": "code",
   "execution_count": 26,
   "id": "03675100",
   "metadata": {},
   "outputs": [
    {
     "name": "stdout",
     "output_type": "stream",
     "text": [
      "Model: \"sequential\"\n",
      "_________________________________________________________________\n",
      "Layer (type)                 Output Shape              Param #   \n",
      "=================================================================\n",
      "lstm (LSTM)                  (None, 100, 50)           10400     \n",
      "_________________________________________________________________\n",
      "lstm_1 (LSTM)                (None, 100, 50)           20200     \n",
      "_________________________________________________________________\n",
      "lstm_2 (LSTM)                (None, 50)                20200     \n",
      "_________________________________________________________________\n",
      "dense (Dense)                (None, 1)                 51        \n",
      "=================================================================\n",
      "Total params: 50,851\n",
      "Trainable params: 50,851\n",
      "Non-trainable params: 0\n",
      "_________________________________________________________________\n"
     ]
    }
   ],
   "source": [
    "model.summary()"
   ]
  },
  {
   "cell_type": "code",
   "execution_count": 27,
   "id": "665bd980",
   "metadata": {
    "scrolled": false
   },
   "outputs": [
    {
     "name": "stdout",
     "output_type": "stream",
     "text": [
      "Epoch 1/100\n",
      "12/12 [==============================] - 5s 450ms/step - loss: 0.0098 - val_loss: 0.0379\n",
      "Epoch 2/100\n",
      "12/12 [==============================] - 3s 211ms/step - loss: 0.0021 - val_loss: 0.0256\n",
      "Epoch 3/100\n",
      "12/12 [==============================] - 4s 319ms/step - loss: 0.0011 - val_loss: 0.0220\n",
      "Epoch 4/100\n",
      "12/12 [==============================] - 3s 245ms/step - loss: 6.7366e-04 - val_loss: 0.0211\n",
      "Epoch 5/100\n",
      "12/12 [==============================] - 4s 312ms/step - loss: 5.1693e-04 - val_loss: 0.0233\n",
      "Epoch 6/100\n",
      "12/12 [==============================] - 3s 257ms/step - loss: 4.8876e-04 - val_loss: 0.0238\n",
      "Epoch 7/100\n",
      "12/12 [==============================] - 3s 234ms/step - loss: 5.6113e-04 - val_loss: 0.0235\n",
      "Epoch 8/100\n",
      "12/12 [==============================] - 3s 254ms/step - loss: 5.8483e-04 - val_loss: 0.0218\n",
      "Epoch 9/100\n",
      "12/12 [==============================] - 3s 228ms/step - loss: 4.5181e-04 - val_loss: 0.0212\n",
      "Epoch 10/100\n",
      "12/12 [==============================] - 3s 225ms/step - loss: 4.4428e-04 - val_loss: 0.0201\n",
      "Epoch 11/100\n",
      "12/12 [==============================] - 3s 250ms/step - loss: 4.0812e-04 - val_loss: 0.0196\n",
      "Epoch 12/100\n",
      "12/12 [==============================] - 3s 250ms/step - loss: 3.8475e-04 - val_loss: 0.0210\n",
      "Epoch 13/100\n",
      "12/12 [==============================] - 3s 230ms/step - loss: 3.6692e-04 - val_loss: 0.0218\n",
      "Epoch 14/100\n",
      "12/12 [==============================] - 3s 249ms/step - loss: 3.3844e-04 - val_loss: 0.0195\n",
      "Epoch 15/100\n",
      "12/12 [==============================] - 3s 265ms/step - loss: 3.2432e-04 - val_loss: 0.0186\n",
      "Epoch 16/100\n",
      "12/12 [==============================] - 3s 276ms/step - loss: 3.5658e-04 - val_loss: 0.0185\n",
      "Epoch 17/100\n",
      "12/12 [==============================] - 3s 232ms/step - loss: 2.8833e-04 - val_loss: 0.0179\n",
      "Epoch 18/100\n",
      "12/12 [==============================] - 3s 233ms/step - loss: 3.2238e-04 - val_loss: 0.0194\n",
      "Epoch 19/100\n",
      "12/12 [==============================] - 3s 223ms/step - loss: 2.7710e-04 - val_loss: 0.0190\n",
      "Epoch 20/100\n",
      "12/12 [==============================] - 3s 256ms/step - loss: 2.5929e-04 - val_loss: 0.0216\n",
      "Epoch 21/100\n",
      "12/12 [==============================] - 3s 217ms/step - loss: 2.7564e-04 - val_loss: 0.0192\n",
      "Epoch 22/100\n",
      "12/12 [==============================] - 3s 242ms/step - loss: 2.5579e-04 - val_loss: 0.0195\n",
      "Epoch 23/100\n",
      "12/12 [==============================] - 3s 253ms/step - loss: 2.4697e-04 - val_loss: 0.0170\n",
      "Epoch 24/100\n",
      "12/12 [==============================] - 3s 243ms/step - loss: 2.6267e-04 - val_loss: 0.0194\n",
      "Epoch 25/100\n",
      "12/12 [==============================] - 3s 212ms/step - loss: 2.5443e-04 - val_loss: 0.0166\n",
      "Epoch 26/100\n",
      "12/12 [==============================] - 3s 259ms/step - loss: 2.4109e-04 - val_loss: 0.0169\n",
      "Epoch 27/100\n",
      "12/12 [==============================] - 3s 228ms/step - loss: 2.5212e-04 - val_loss: 0.0164\n",
      "Epoch 28/100\n",
      "12/12 [==============================] - 3s 255ms/step - loss: 2.3183e-04 - val_loss: 0.0169\n",
      "Epoch 29/100\n",
      "12/12 [==============================] - 3s 234ms/step - loss: 2.3104e-04 - val_loss: 0.0150\n",
      "Epoch 30/100\n",
      "12/12 [==============================] - 2s 202ms/step - loss: 2.3132e-04 - val_loss: 0.0157\n",
      "Epoch 31/100\n",
      "12/12 [==============================] - 3s 221ms/step - loss: 2.4210e-04 - val_loss: 0.0164\n",
      "Epoch 32/100\n",
      "12/12 [==============================] - 2s 203ms/step - loss: 2.4443e-04 - val_loss: 0.0148\n",
      "Epoch 33/100\n",
      "12/12 [==============================] - 2s 202ms/step - loss: 2.2053e-04 - val_loss: 0.0178\n",
      "Epoch 34/100\n",
      "12/12 [==============================] - 3s 210ms/step - loss: 2.2912e-04 - val_loss: 0.0151\n",
      "Epoch 35/100\n",
      "12/12 [==============================] - 2s 206ms/step - loss: 2.2063e-04 - val_loss: 0.0152\n",
      "Epoch 36/100\n",
      "12/12 [==============================] - 2s 200ms/step - loss: 2.1311e-04 - val_loss: 0.0172\n",
      "Epoch 37/100\n",
      "12/12 [==============================] - 2s 199ms/step - loss: 2.3811e-04 - val_loss: 0.0150\n",
      "Epoch 38/100\n",
      "12/12 [==============================] - 3s 239ms/step - loss: 2.3675e-04 - val_loss: 0.0151\n",
      "Epoch 39/100\n",
      "12/12 [==============================] - 3s 229ms/step - loss: 2.1339e-04 - val_loss: 0.0172\n",
      "Epoch 40/100\n",
      "12/12 [==============================] - 3s 234ms/step - loss: 2.2107e-04 - val_loss: 0.0135\n",
      "Epoch 41/100\n",
      "12/12 [==============================] - 3s 237ms/step - loss: 2.1507e-04 - val_loss: 0.0162\n",
      "Epoch 42/100\n",
      "12/12 [==============================] - 2s 205ms/step - loss: 1.9798e-04 - val_loss: 0.0146\n",
      "Epoch 43/100\n",
      "12/12 [==============================] - 2s 200ms/step - loss: 1.9819e-04 - val_loss: 0.0153\n",
      "Epoch 44/100\n",
      "12/12 [==============================] - 2s 200ms/step - loss: 1.9262e-04 - val_loss: 0.0155\n",
      "Epoch 45/100\n",
      "12/12 [==============================] - 2s 201ms/step - loss: 2.0017e-04 - val_loss: 0.0146\n",
      "Epoch 46/100\n",
      "12/12 [==============================] - 2s 202ms/step - loss: 1.9333e-04 - val_loss: 0.0146\n",
      "Epoch 47/100\n",
      "12/12 [==============================] - 2s 201ms/step - loss: 1.8846e-04 - val_loss: 0.0143\n",
      "Epoch 48/100\n",
      "12/12 [==============================] - 2s 203ms/step - loss: 1.8904e-04 - val_loss: 0.0171\n",
      "Epoch 49/100\n",
      "12/12 [==============================] - 2s 200ms/step - loss: 2.0720e-04 - val_loss: 0.0123\n",
      "Epoch 50/100\n",
      "12/12 [==============================] - 3s 233ms/step - loss: 1.9960e-04 - val_loss: 0.0148\n",
      "Epoch 51/100\n",
      "12/12 [==============================] - 2s 204ms/step - loss: 1.9186e-04 - val_loss: 0.0141\n",
      "Epoch 52/100\n",
      "12/12 [==============================] - 2s 199ms/step - loss: 1.8014e-04 - val_loss: 0.0144\n",
      "Epoch 53/100\n",
      "12/12 [==============================] - 2s 205ms/step - loss: 1.8023e-04 - val_loss: 0.0150\n",
      "Epoch 54/100\n",
      "12/12 [==============================] - 2s 202ms/step - loss: 1.9996e-04 - val_loss: 0.0147\n",
      "Epoch 55/100\n",
      "12/12 [==============================] - 2s 203ms/step - loss: 1.8502e-04 - val_loss: 0.0125\n",
      "Epoch 56/100\n",
      "12/12 [==============================] - 2s 207ms/step - loss: 1.8520e-04 - val_loss: 0.0146\n",
      "Epoch 57/100\n",
      "12/12 [==============================] - 2s 205ms/step - loss: 1.7707e-04 - val_loss: 0.0159\n",
      "Epoch 58/100\n",
      "12/12 [==============================] - 2s 200ms/step - loss: 2.0620e-04 - val_loss: 0.0118\n",
      "Epoch 59/100\n",
      "12/12 [==============================] - 2s 198ms/step - loss: 1.7018e-04 - val_loss: 0.0152\n",
      "Epoch 60/100\n",
      "12/12 [==============================] - 2s 200ms/step - loss: 1.8025e-04 - val_loss: 0.0142\n",
      "Epoch 61/100\n",
      "12/12 [==============================] - 2s 199ms/step - loss: 1.7115e-04 - val_loss: 0.0138\n",
      "Epoch 62/100\n",
      "12/12 [==============================] - 2s 201ms/step - loss: 1.7710e-04 - val_loss: 0.0146\n",
      "Epoch 63/100\n",
      "12/12 [==============================] - 2s 200ms/step - loss: 1.6217e-04 - val_loss: 0.0130\n",
      "Epoch 64/100\n",
      "12/12 [==============================] - 2s 199ms/step - loss: 1.6299e-04 - val_loss: 0.0132\n",
      "Epoch 65/100\n",
      "12/12 [==============================] - 2s 204ms/step - loss: 1.5857e-04 - val_loss: 0.0145\n",
      "Epoch 66/100\n",
      "12/12 [==============================] - 3s 211ms/step - loss: 1.6637e-04 - val_loss: 0.0158\n",
      "Epoch 67/100\n",
      "12/12 [==============================] - 2s 201ms/step - loss: 1.5986e-04 - val_loss: 0.0139\n",
      "Epoch 68/100\n",
      "12/12 [==============================] - 2s 202ms/step - loss: 1.5413e-04 - val_loss: 0.0123\n",
      "Epoch 69/100\n",
      "12/12 [==============================] - 2s 199ms/step - loss: 1.6703e-04 - val_loss: 0.0148\n",
      "Epoch 70/100\n",
      "12/12 [==============================] - 3s 238ms/step - loss: 1.6002e-04 - val_loss: 0.0125\n",
      "Epoch 71/100\n",
      "12/12 [==============================] - 2s 188ms/step - loss: 1.6547e-04 - val_loss: 0.0121\n",
      "Epoch 72/100\n",
      "12/12 [==============================] - 2s 183ms/step - loss: 1.5914e-04 - val_loss: 0.0166\n",
      "Epoch 73/100\n",
      "12/12 [==============================] - 2s 183ms/step - loss: 1.5807e-04 - val_loss: 0.0125\n",
      "Epoch 74/100\n",
      "12/12 [==============================] - 2s 187ms/step - loss: 1.6160e-04 - val_loss: 0.0124\n",
      "Epoch 75/100\n",
      "12/12 [==============================] - 2s 182ms/step - loss: 1.7952e-04 - val_loss: 0.0162\n",
      "Epoch 76/100\n",
      "12/12 [==============================] - 2s 182ms/step - loss: 1.6999e-04 - val_loss: 0.0122\n",
      "Epoch 77/100\n",
      "12/12 [==============================] - 2s 183ms/step - loss: 1.4475e-04 - val_loss: 0.0117\n",
      "Epoch 78/100\n",
      "12/12 [==============================] - 2s 182ms/step - loss: 1.4463e-04 - val_loss: 0.0132\n",
      "Epoch 79/100\n",
      "12/12 [==============================] - 2s 183ms/step - loss: 1.4120e-04 - val_loss: 0.0122\n",
      "Epoch 80/100\n",
      "12/12 [==============================] - 2s 182ms/step - loss: 1.3795e-04 - val_loss: 0.0136\n",
      "Epoch 81/100\n",
      "12/12 [==============================] - 2s 188ms/step - loss: 1.4534e-04 - val_loss: 0.0120\n",
      "Epoch 82/100\n",
      "12/12 [==============================] - 3s 276ms/step - loss: 1.4372e-04 - val_loss: 0.0136\n",
      "Epoch 83/100\n",
      "12/12 [==============================] - 4s 308ms/step - loss: 1.4806e-04 - val_loss: 0.0134\n",
      "Epoch 84/100\n",
      "12/12 [==============================] - 3s 247ms/step - loss: 1.5699e-04 - val_loss: 0.0112\n",
      "Epoch 85/100\n",
      "12/12 [==============================] - 3s 228ms/step - loss: 1.4664e-04 - val_loss: 0.0143\n",
      "Epoch 86/100\n",
      "12/12 [==============================] - 3s 226ms/step - loss: 1.4521e-04 - val_loss: 0.0131\n",
      "Epoch 87/100\n",
      "12/12 [==============================] - 3s 237ms/step - loss: 1.3706e-04 - val_loss: 0.0122\n",
      "Epoch 88/100\n",
      "12/12 [==============================] - 3s 280ms/step - loss: 1.3443e-04 - val_loss: 0.0106\n",
      "Epoch 89/100\n",
      "12/12 [==============================] - 3s 251ms/step - loss: 1.2853e-04 - val_loss: 0.0128\n",
      "Epoch 90/100\n",
      "12/12 [==============================] - 3s 262ms/step - loss: 1.4542e-04 - val_loss: 0.0113\n",
      "Epoch 91/100\n",
      "12/12 [==============================] - 3s 240ms/step - loss: 1.4146e-04 - val_loss: 0.0127\n",
      "Epoch 92/100\n",
      "12/12 [==============================] - 3s 220ms/step - loss: 1.5105e-04 - val_loss: 0.0106\n",
      "Epoch 93/100\n",
      "12/12 [==============================] - 3s 263ms/step - loss: 1.3732e-04 - val_loss: 0.0091\n",
      "Epoch 94/100\n",
      "12/12 [==============================] - 3s 234ms/step - loss: 1.3466e-04 - val_loss: 0.0131\n",
      "Epoch 95/100\n",
      "12/12 [==============================] - 3s 223ms/step - loss: 1.6284e-04 - val_loss: 0.0107\n",
      "Epoch 96/100\n",
      "12/12 [==============================] - 3s 237ms/step - loss: 1.2395e-04 - val_loss: 0.0095\n",
      "Epoch 97/100\n",
      "12/12 [==============================] - 3s 249ms/step - loss: 1.2647e-04 - val_loss: 0.0120\n",
      "Epoch 98/100\n",
      "12/12 [==============================] - 3s 247ms/step - loss: 1.2591e-04 - val_loss: 0.0104\n",
      "Epoch 99/100\n",
      "12/12 [==============================] - 3s 249ms/step - loss: 1.3739e-04 - val_loss: 0.0105\n",
      "Epoch 100/100\n",
      "12/12 [==============================] - 3s 211ms/step - loss: 1.2007e-04 - val_loss: 0.0090\n"
     ]
    },
    {
     "data": {
      "text/plain": [
       "<tensorflow.python.keras.callbacks.History at 0x17418495d30>"
      ]
     },
     "execution_count": 27,
     "metadata": {},
     "output_type": "execute_result"
    }
   ],
   "source": [
    "model.fit(X_train,y_train, validation_data=(X_test,y_test),epochs=100,batch_size=64,verbose=1)"
   ]
  },
  {
   "cell_type": "code",
   "execution_count": 28,
   "id": "e66870a8",
   "metadata": {},
   "outputs": [],
   "source": [
    "import tensorflow as tf"
   ]
  },
  {
   "cell_type": "code",
   "execution_count": 29,
   "id": "2fc88a09",
   "metadata": {},
   "outputs": [],
   "source": [
    "## Prediction\n",
    "train_predict = model.predict(X_train)\n",
    "test_predict = model.predict(X_test)"
   ]
  },
  {
   "cell_type": "code",
   "execution_count": 30,
   "id": "b0162cc0",
   "metadata": {},
   "outputs": [],
   "source": [
    "## Transformation to original form\n",
    "train_predict = scaler.inverse_transform(train_predict)\n",
    "test_predict = scaler.inverse_transform(test_predict)"
   ]
  },
  {
   "cell_type": "code",
   "execution_count": 31,
   "id": "356efa9e",
   "metadata": {},
   "outputs": [
    {
     "data": {
      "text/plain": [
       "181.78698339599669"
      ]
     },
     "execution_count": 31,
     "metadata": {},
     "output_type": "execute_result"
    }
   ],
   "source": [
    "## Calculate RMSE performance metrics\n",
    "import math\n",
    "from sklearn.metrics import mean_squared_error\n",
    "math.sqrt(mean_squared_error(y_train, train_predict))"
   ]
  },
  {
   "cell_type": "code",
   "execution_count": 32,
   "id": "d16b8237",
   "metadata": {},
   "outputs": [
    {
     "data": {
      "text/plain": [
       "232.2249309470164"
      ]
     },
     "execution_count": 32,
     "metadata": {},
     "output_type": "execute_result"
    }
   ],
   "source": [
    "## TEST DATA\n",
    "math.sqrt(mean_squared_error(y_test, test_predict))"
   ]
  },
  {
   "cell_type": "code",
   "execution_count": 33,
   "id": "866e5dfe",
   "metadata": {},
   "outputs": [
    {
     "data": {
      "image/png": "[encoded data removed]",
      "text/plain": [
       "<Figure size 640x480 with 1 Axes>"
      ]
     },
     "metadata": {},
     "output_type": "display_data"
    }
   ],
   "source": [
    "### Plotting \n",
    "# shift train predictions for plotting\n",
    "look_back=100\n",
    "trainPredictPlot = np.empty_like(df1)\n",
    "trainPredictPlot[:, :] = np.nan\n",
    "trainPredictPlot[look_back:len(train_predict)+look_back, :] = train_predict\n",
    "# shift test predictions for plotting\n",
    "testPredictPlot = np.empty_like(df1)\n",
    "testPredictPlot[:, :] = np.nan\n",
    "testPredictPlot[len(train_predict)+(look_back*2)+1:len(df1)-1, :] = test_predict\n",
    "# plot baseline and predictions\n",
    "plt.plot(scaler.inverse_transform(df1))\n",
    "plt.plot(trainPredictPlot)\n",
    "plt.plot(testPredictPlot)\n",
    "plt.show()"
   ]
  },
  {
   "cell_type": "code",
   "execution_count": 34,
   "id": "6151fd59",
   "metadata": {},
   "outputs": [
    {
     "data": {
      "text/plain": [
       "440"
      ]
     },
     "execution_count": 34,
     "metadata": {},
     "output_type": "execute_result"
    }
   ],
   "source": [
    "## Now, Lets foreast for next 30 days\n",
    "len(test_data)"
   ]
  },
  {
   "cell_type": "code",
   "execution_count": 44,
   "id": "9f14885a",
   "metadata": {},
   "outputs": [
    {
     "data": {
      "text/plain": [
       "(1, 100)"
      ]
     },
     "execution_count": 44,
     "metadata": {},
     "output_type": "execute_result"
    }
   ],
   "source": [
    "## We will take last previous 100 records and predict the next forecast iteratively\n",
    "x_input = test_data[340:].reshape(1,-1)\n",
    "x_input.shape"
   ]
  },
  {
   "cell_type": "code",
   "execution_count": 45,
   "id": "0c8fae67",
   "metadata": {},
   "outputs": [],
   "source": [
    "temp_input = list(x_input)\n",
    "temp_input = temp_input[0].tolist()"
   ]
  },
  {
   "cell_type": "code",
   "execution_count": 46,
   "id": "868d8c28",
   "metadata": {},
   "outputs": [
    {
     "data": {
      "text/plain": [
       "[0.06975878499106619,\n",
       " 0.07767520349414342,\n",
       " 0.07171927734762762,\n",
       " 0.07784891800675009,\n",
       " 0.07700516180266037]"
      ]
     },
     "execution_count": 46,
     "metadata": {},
     "output_type": "execute_result"
    }
   ],
   "source": [
    "temp_input[:5]"
   ]
  },
  {
   "cell_type": "code",
   "execution_count": 47,
   "id": "3e2e2878",
   "metadata": {
    "scrolled": true
   },
   "outputs": [
    {
     "name": "stdout",
     "output_type": "stream",
     "text": [
      "[0.11664689]\n",
      "101\n",
      "1 day input [0.0776752  0.07171928 0.07784892 0.07700516 0.07869267 0.07439944\n",
      " 0.07536728 0.07149593 0.07740222 0.07839488 0.07757594 0.07556581\n",
      " 0.07531765 0.07030474 0.07298491 0.06134604 0.06196645 0.06603633\n",
      " 0.0672027  0.0588644  0.05653167 0.04873933 0.05419893 0.06035338\n",
      " 0.05742505 0.05390113 0.05350407 0.06000596 0.05534048 0.05948481\n",
      " 0.05898849 0.0588644  0.05496824 0.05330554 0.0524866  0.05442228\n",
      " 0.05065019 0.05648203 0.05650685 0.05859142 0.05955926 0.05702799\n",
      " 0.06010522 0.06787274 0.06578817 0.0670538  0.07112368 0.06782311\n",
      " 0.07238932 0.07655847 0.07586361 0.07514393 0.07439944 0.07854378\n",
      " 0.08239031 0.08395374 0.08472305 0.09139865 0.09651082 0.10283899\n",
      " 0.09953842 0.10417907 0.10266528 0.10549434 0.11420488 0.11254219\n",
      " 0.10735557 0.09757792 0.10675998 0.10489875 0.10837304 0.11274072\n",
      " 0.11380782 0.10829859 0.10385646 0.10549434 0.1060403  0.10519655\n",
      " 0.10976276 0.10874528 0.10901826 0.10673516 0.10661108 0.10539508\n",
      " 0.1060403  0.11355966 0.1140808  0.11909371 0.11678579 0.10728112\n",
      " 0.10812488 0.11182251 0.1155946  0.11537125 0.11224439 0.11020945\n",
      " 0.11283998 0.12405698 0.12085567 0.11664689]\n",
      "1 day output [[0.11796341]]\n",
      "2 day input [0.07171928 0.07784892 0.07700516 0.07869267 0.07439944 0.07536728\n",
      " 0.07149593 0.07740222 0.07839488 0.07757594 0.07556581 0.07531765\n",
      " 0.07030474 0.07298491 0.06134604 0.06196645 0.06603633 0.0672027\n",
      " 0.0588644  0.05653167 0.04873933 0.05419893 0.06035338 0.05742505\n",
      " 0.05390113 0.05350407 0.06000596 0.05534048 0.05948481 0.05898849\n",
      " 0.0588644  0.05496824 0.05330554 0.0524866  0.05442228 0.05065019\n",
      " 0.05648203 0.05650685 0.05859142 0.05955926 0.05702799 0.06010522\n",
      " 0.06787274 0.06578817 0.0670538  0.07112368 0.06782311 0.07238932\n",
      " 0.07655847 0.07586361 0.07514393 0.07439944 0.07854378 0.08239031\n",
      " 0.08395374 0.08472305 0.09139865 0.09651082 0.10283899 0.09953842\n",
      " 0.10417907 0.10266528 0.10549434 0.11420488 0.11254219 0.10735557\n",
      " 0.09757792 0.10675998 0.10489875 0.10837304 0.11274072 0.11380782\n",
      " 0.10829859 0.10385646 0.10549434 0.1060403  0.10519655 0.10976276\n",
      " 0.10874528 0.10901826 0.10673516 0.10661108 0.10539508 0.1060403\n",
      " 0.11355966 0.1140808  0.11909371 0.11678579 0.10728112 0.10812488\n",
      " 0.11182251 0.1155946  0.11537125 0.11224439 0.11020945 0.11283998\n",
      " 0.12405698 0.12085567 0.11664689 0.11796341]\n",
      "2 day output [[0.1189508]]\n",
      "3 day input [0.07784892 0.07700516 0.07869267 0.07439944 0.07536728 0.07149593\n",
      " 0.07740222 0.07839488 0.07757594 0.07556581 0.07531765 0.07030474\n",
      " 0.07298491 0.06134604 0.06196645 0.06603633 0.0672027  0.0588644\n",
      " 0.05653167 0.04873933 0.05419893 0.06035338 0.05742505 0.05390113\n",
      " 0.05350407 0.06000596 0.05534048 0.05948481 0.05898849 0.0588644\n",
      " 0.05496824 0.05330554 0.0524866  0.05442228 0.05065019 0.05648203\n",
      " 0.05650685 0.05859142 0.05955926 0.05702799 0.06010522 0.06787274\n",
      " 0.06578817 0.0670538  0.07112368 0.06782311 0.07238932 0.07655847\n",
      " 0.07586361 0.07514393 0.07439944 0.07854378 0.08239031 0.08395374\n",
      " 0.08472305 0.09139865 0.09651082 0.10283899 0.09953842 0.10417907\n",
      " 0.10266528 0.10549434 0.11420488 0.11254219 0.10735557 0.09757792\n",
      " 0.10675998 0.10489875 0.10837304 0.11274072 0.11380782 0.10829859\n",
      " 0.10385646 0.10549434 0.1060403  0.10519655 0.10976276 0.10874528\n",
      " 0.10901826 0.10673516 0.10661108 0.10539508 0.1060403  0.11355966\n",
      " 0.1140808  0.11909371 0.11678579 0.10728112 0.10812488 0.11182251\n",
      " 0.1155946  0.11537125 0.11224439 0.11020945 0.11283998 0.12405698\n",
      " 0.12085567 0.11664689 0.11796341 0.1189508 ]\n",
      "3 day output [[0.11964721]]\n",
      "4 day input [0.07700516 0.07869267 0.07439944 0.07536728 0.07149593 0.07740222\n",
      " 0.07839488 0.07757594 0.07556581 0.07531765 0.07030474 0.07298491\n",
      " 0.06134604 0.06196645 0.06603633 0.0672027  0.0588644  0.05653167\n",
      " 0.04873933 0.05419893 0.06035338 0.05742505 0.05390113 0.05350407\n",
      " 0.06000596 0.05534048 0.05948481 0.05898849 0.0588644  0.05496824\n",
      " 0.05330554 0.0524866  0.05442228 0.05065019 0.05648203 0.05650685\n",
      " 0.05859142 0.05955926 0.05702799 0.06010522 0.06787274 0.06578817\n",
      " 0.0670538  0.07112368 0.06782311 0.07238932 0.07655847 0.07586361\n",
      " 0.07514393 0.07439944 0.07854378 0.08239031 0.08395374 0.08472305\n",
      " 0.09139865 0.09651082 0.10283899 0.09953842 0.10417907 0.10266528\n",
      " 0.10549434 0.11420488 0.11254219 0.10735557 0.09757792 0.10675998\n",
      " 0.10489875 0.10837304 0.11274072 0.11380782 0.10829859 0.10385646\n",
      " 0.10549434 0.1060403  0.10519655 0.10976276 0.10874528 0.10901826\n",
      " 0.10673516 0.10661108 0.10539508 0.1060403  0.11355966 0.1140808\n",
      " 0.11909371 0.11678579 0.10728112 0.10812488 0.11182251 0.1155946\n",
      " 0.11537125 0.11224439 0.11020945 0.11283998 0.12405698 0.12085567\n",
      " 0.11664689 0.11796341 0.1189508  0.11964721]\n",
      "4 day output [[0.12014756]]\n",
      "5 day input [0.07869267 0.07439944 0.07536728 0.07149593 0.07740222 0.07839488\n",
      " 0.07757594 0.07556581 0.07531765 0.07030474 0.07298491 0.06134604\n",
      " 0.06196645 0.06603633 0.0672027  0.0588644  0.05653167 0.04873933\n",
      " 0.05419893 0.06035338 0.05742505 0.05390113 0.05350407 0.06000596\n",
      " 0.05534048 0.05948481 0.05898849 0.0588644  0.05496824 0.05330554\n",
      " 0.0524866  0.05442228 0.05065019 0.05648203 0.05650685 0.05859142\n",
      " 0.05955926 0.05702799 0.06010522 0.06787274 0.06578817 0.0670538\n",
      " 0.07112368 0.06782311 0.07238932 0.07655847 0.07586361 0.07514393\n",
      " 0.07439944 0.07854378 0.08239031 0.08395374 0.08472305 0.09139865\n",
      " 0.09651082 0.10283899 0.09953842 0.10417907 0.10266528 0.10549434\n",
      " 0.11420488 0.11254219 0.10735557 0.09757792 0.10675998 0.10489875\n",
      " 0.10837304 0.11274072 0.11380782 0.10829859 0.10385646 0.10549434\n",
      " 0.1060403  0.10519655 0.10976276 0.10874528 0.10901826 0.10673516\n",
      " 0.10661108 0.10539508 0.1060403  0.11355966 0.1140808  0.11909371\n",
      " 0.11678579 0.10728112 0.10812488 0.11182251 0.1155946  0.11537125\n",
      " 0.11224439 0.11020945 0.11283998 0.12405698 0.12085567 0.11664689\n",
      " 0.11796341 0.1189508  0.11964721 0.12014756]\n",
      "5 day output [[0.12053506]]\n",
      "6 day input [0.07439944 0.07536728 0.07149593 0.07740222 0.07839488 0.07757594\n",
      " 0.07556581 0.07531765 0.07030474 0.07298491 0.06134604 0.06196645\n",
      " 0.06603633 0.0672027  0.0588644  0.05653167 0.04873933 0.05419893\n",
      " 0.06035338 0.05742505 0.05390113 0.05350407 0.06000596 0.05534048\n",
      " 0.05948481 0.05898849 0.0588644  0.05496824 0.05330554 0.0524866\n",
      " 0.05442228 0.05065019 0.05648203 0.05650685 0.05859142 0.05955926\n",
      " 0.05702799 0.06010522 0.06787274 0.06578817 0.0670538  0.07112368\n",
      " 0.06782311 0.07238932 0.07655847 0.07586361 0.07514393 0.07439944\n",
      " 0.07854378 0.08239031 0.08395374 0.08472305 0.09139865 0.09651082\n",
      " 0.10283899 0.09953842 0.10417907 0.10266528 0.10549434 0.11420488\n",
      " 0.11254219 0.10735557 0.09757792 0.10675998 0.10489875 0.10837304\n",
      " 0.11274072 0.11380782 0.10829859 0.10385646 0.10549434 0.1060403\n",
      " 0.10519655 0.10976276 0.10874528 0.10901826 0.10673516 0.10661108\n",
      " 0.10539508 0.1060403  0.11355966 0.1140808  0.11909371 0.11678579\n",
      " 0.10728112 0.10812488 0.11182251 0.1155946  0.11537125 0.11224439\n",
      " 0.11020945 0.11283998 0.12405698 0.12085567 0.11664689 0.11796341\n",
      " 0.1189508  0.11964721 0.12014756 0.12053506]\n",
      "6 day output [[0.1208643]]\n",
      "7 day input [0.07536728 0.07149593 0.07740222 0.07839488 0.07757594 0.07556581\n",
      " 0.07531765 0.07030474 0.07298491 0.06134604 0.06196645 0.06603633\n",
      " 0.0672027  0.0588644  0.05653167 0.04873933 0.05419893 0.06035338\n",
      " 0.05742505 0.05390113 0.05350407 0.06000596 0.05534048 0.05948481\n",
      " 0.05898849 0.0588644  0.05496824 0.05330554 0.0524866  0.05442228\n",
      " 0.05065019 0.05648203 0.05650685 0.05859142 0.05955926 0.05702799\n",
      " 0.06010522 0.06787274 0.06578817 0.0670538  0.07112368 0.06782311\n",
      " 0.07238932 0.07655847 0.07586361 0.07514393 0.07439944 0.07854378\n",
      " 0.08239031 0.08395374 0.08472305 0.09139865 0.09651082 0.10283899\n",
      " 0.09953842 0.10417907 0.10266528 0.10549434 0.11420488 0.11254219\n",
      " 0.10735557 0.09757792 0.10675998 0.10489875 0.10837304 0.11274072\n",
      " 0.11380782 0.10829859 0.10385646 0.10549434 0.1060403  0.10519655\n",
      " 0.10976276 0.10874528 0.10901826 0.10673516 0.10661108 0.10539508\n",
      " 0.1060403  0.11355966 0.1140808  0.11909371 0.11678579 0.10728112\n",
      " 0.10812488 0.11182251 0.1155946  0.11537125 0.11224439 0.11020945\n",
      " 0.11283998 0.12405698 0.12085567 0.11664689 0.11796341 0.1189508\n",
      " 0.11964721 0.12014756 0.12053506 0.1208643 ]\n",
      "7 day output [[0.12116551]]\n",
      "8 day input [0.07149593 0.07740222 0.07839488 0.07757594 0.07556581 0.07531765\n",
      " 0.07030474 0.07298491 0.06134604 0.06196645 0.06603633 0.0672027\n",
      " 0.0588644  0.05653167 0.04873933 0.05419893 0.06035338 0.05742505\n",
      " 0.05390113 0.05350407 0.06000596 0.05534048 0.05948481 0.05898849\n",
      " 0.0588644  0.05496824 0.05330554 0.0524866  0.05442228 0.05065019\n",
      " 0.05648203 0.05650685 0.05859142 0.05955926 0.05702799 0.06010522\n",
      " 0.06787274 0.06578817 0.0670538  0.07112368 0.06782311 0.07238932\n",
      " 0.07655847 0.07586361 0.07514393 0.07439944 0.07854378 0.08239031\n",
      " 0.08395374 0.08472305 0.09139865 0.09651082 0.10283899 0.09953842\n",
      " 0.10417907 0.10266528 0.10549434 0.11420488 0.11254219 0.10735557\n",
      " 0.09757792 0.10675998 0.10489875 0.10837304 0.11274072 0.11380782\n",
      " 0.10829859 0.10385646 0.10549434 0.1060403  0.10519655 0.10976276\n",
      " 0.10874528 0.10901826 0.10673516 0.10661108 0.10539508 0.1060403\n",
      " 0.11355966 0.1140808  0.11909371 0.11678579 0.10728112 0.10812488\n",
      " 0.11182251 0.1155946  0.11537125 0.11224439 0.11020945 0.11283998\n",
      " 0.12405698 0.12085567 0.11664689 0.11796341 0.1189508  0.11964721\n",
      " 0.12014756 0.12053506 0.1208643  0.12116551]\n",
      "8 day output [[0.12145338]]\n",
      "9 day input [0.07740222 0.07839488 0.07757594 0.07556581 0.07531765 0.07030474\n",
      " 0.07298491 0.06134604 0.06196645 0.06603633 0.0672027  0.0588644\n",
      " 0.05653167 0.04873933 0.05419893 0.06035338 0.05742505 0.05390113\n",
      " 0.05350407 0.06000596 0.05534048 0.05948481 0.05898849 0.0588644\n",
      " 0.05496824 0.05330554 0.0524866  0.05442228 0.05065019 0.05648203\n",
      " 0.05650685 0.05859142 0.05955926 0.05702799 0.06010522 0.06787274\n",
      " 0.06578817 0.0670538  0.07112368 0.06782311 0.07238932 0.07655847\n",
      " 0.07586361 0.07514393 0.07439944 0.07854378 0.08239031 0.08395374\n",
      " 0.08472305 0.09139865 0.09651082 0.10283899 0.09953842 0.10417907\n",
      " 0.10266528 0.10549434 0.11420488 0.11254219 0.10735557 0.09757792\n",
      " 0.10675998 0.10489875 0.10837304 0.11274072 0.11380782 0.10829859\n",
      " 0.10385646 0.10549434 0.1060403  0.10519655 0.10976276 0.10874528\n",
      " 0.10901826 0.10673516 0.10661108 0.10539508 0.1060403  0.11355966\n",
      " 0.1140808  0.11909371 0.11678579 0.10728112 0.10812488 0.11182251\n",
      " 0.1155946  0.11537125 0.11224439 0.11020945 0.11283998 0.12405698\n",
      " 0.12085567 0.11664689 0.11796341 0.1189508  0.11964721 0.12014756\n",
      " 0.12053506 0.1208643  0.12116551 0.12145338]\n",
      "9 day output [[0.12173481]]\n",
      "10 day input [0.07839488 0.07757594 0.07556581 0.07531765 0.07030474 0.07298491\n",
      " 0.06134604 0.06196645 0.06603633 0.0672027  0.0588644  0.05653167\n",
      " 0.04873933 0.05419893 0.06035338 0.05742505 0.05390113 0.05350407\n",
      " 0.06000596 0.05534048 0.05948481 0.05898849 0.0588644  0.05496824\n",
      " 0.05330554 0.0524866  0.05442228 0.05065019 0.05648203 0.05650685\n",
      " 0.05859142 0.05955926 0.05702799 0.06010522 0.06787274 0.06578817\n",
      " 0.0670538  0.07112368 0.06782311 0.07238932 0.07655847 0.07586361\n",
      " 0.07514393 0.07439944 0.07854378 0.08239031 0.08395374 0.08472305\n",
      " 0.09139865 0.09651082 0.10283899 0.09953842 0.10417907 0.10266528\n",
      " 0.10549434 0.11420488 0.11254219 0.10735557 0.09757792 0.10675998\n",
      " 0.10489875 0.10837304 0.11274072 0.11380782 0.10829859 0.10385646\n",
      " 0.10549434 0.1060403  0.10519655 0.10976276 0.10874528 0.10901826\n",
      " 0.10673516 0.10661108 0.10539508 0.1060403  0.11355966 0.1140808\n",
      " 0.11909371 0.11678579 0.10728112 0.10812488 0.11182251 0.1155946\n",
      " 0.11537125 0.11224439 0.11020945 0.11283998 0.12405698 0.12085567\n",
      " 0.11664689 0.11796341 0.1189508  0.11964721 0.12014756 0.12053506\n",
      " 0.1208643  0.12116551 0.12145338 0.12173481]\n",
      "10 day output [[0.1220132]]\n",
      "11 day input [0.07757594 0.07556581 0.07531765 0.07030474 0.07298491 0.06134604\n",
      " 0.06196645 0.06603633 0.0672027  0.0588644  0.05653167 0.04873933\n",
      " 0.05419893 0.06035338 0.05742505 0.05390113 0.05350407 0.06000596\n",
      " 0.05534048 0.05948481 0.05898849 0.0588644  0.05496824 0.05330554\n",
      " 0.0524866  0.05442228 0.05065019 0.05648203 0.05650685 0.05859142\n",
      " 0.05955926 0.05702799 0.06010522 0.06787274 0.06578817 0.0670538\n",
      " 0.07112368 0.06782311 0.07238932 0.07655847 0.07586361 0.07514393\n",
      " 0.07439944 0.07854378 0.08239031 0.08395374 0.08472305 0.09139865\n",
      " 0.09651082 0.10283899 0.09953842 0.10417907 0.10266528 0.10549434\n",
      " 0.11420488 0.11254219 0.10735557 0.09757792 0.10675998 0.10489875\n",
      " 0.10837304 0.11274072 0.11380782 0.10829859 0.10385646 0.10549434\n",
      " 0.1060403  0.10519655 0.10976276 0.10874528 0.10901826 0.10673516\n",
      " 0.10661108 0.10539508 0.1060403  0.11355966 0.1140808  0.11909371\n",
      " 0.11678579 0.10728112 0.10812488 0.11182251 0.1155946  0.11537125\n",
      " 0.11224439 0.11020945 0.11283998 0.12405698 0.12085567 0.11664689\n",
      " 0.11796341 0.1189508  0.11964721 0.12014756 0.12053506 0.1208643\n",
      " 0.12116551 0.12145338 0.12173481 0.1220132 ]\n",
      "11 day output [[0.12229079]]\n",
      "12 day input [0.07556581 0.07531765 0.07030474 0.07298491 0.06134604 0.06196645\n",
      " 0.06603633 0.0672027  0.0588644  0.05653167 0.04873933 0.05419893\n",
      " 0.06035338 0.05742505 0.05390113 0.05350407 0.06000596 0.05534048\n",
      " 0.05948481 0.05898849 0.0588644  0.05496824 0.05330554 0.0524866\n",
      " 0.05442228 0.05065019 0.05648203 0.05650685 0.05859142 0.05955926\n",
      " 0.05702799 0.06010522 0.06787274 0.06578817 0.0670538  0.07112368\n",
      " 0.06782311 0.07238932 0.07655847 0.07586361 0.07514393 0.07439944\n",
      " 0.07854378 0.08239031 0.08395374 0.08472305 0.09139865 0.09651082\n",
      " 0.10283899 0.09953842 0.10417907 0.10266528 0.10549434 0.11420488\n",
      " 0.11254219 0.10735557 0.09757792 0.10675998 0.10489875 0.10837304\n",
      " 0.11274072 0.11380782 0.10829859 0.10385646 0.10549434 0.1060403\n",
      " 0.10519655 0.10976276 0.10874528 0.10901826 0.10673516 0.10661108\n",
      " 0.10539508 0.1060403  0.11355966 0.1140808  0.11909371 0.11678579\n",
      " 0.10728112 0.10812488 0.11182251 0.1155946  0.11537125 0.11224439\n",
      " 0.11020945 0.11283998 0.12405698 0.12085567 0.11664689 0.11796341\n",
      " 0.1189508  0.11964721 0.12014756 0.12053506 0.1208643  0.12116551\n",
      " 0.12145338 0.12173481 0.1220132  0.12229079]\n",
      "12 day output [[0.1225694]]\n",
      "13 day input [0.07531765 0.07030474 0.07298491 0.06134604 0.06196645 0.06603633\n",
      " 0.0672027  0.0588644  0.05653167 0.04873933 0.05419893 0.06035338\n",
      " 0.05742505 0.05390113 0.05350407 0.06000596 0.05534048 0.05948481\n",
      " 0.05898849 0.0588644  0.05496824 0.05330554 0.0524866  0.05442228\n",
      " 0.05065019 0.05648203 0.05650685 0.05859142 0.05955926 0.05702799\n",
      " 0.06010522 0.06787274 0.06578817 0.0670538  0.07112368 0.06782311\n",
      " 0.07238932 0.07655847 0.07586361 0.07514393 0.07439944 0.07854378\n",
      " 0.08239031 0.08395374 0.08472305 0.09139865 0.09651082 0.10283899\n",
      " 0.09953842 0.10417907 0.10266528 0.10549434 0.11420488 0.11254219\n",
      " 0.10735557 0.09757792 0.10675998 0.10489875 0.10837304 0.11274072\n",
      " 0.11380782 0.10829859 0.10385646 0.10549434 0.1060403  0.10519655\n",
      " 0.10976276 0.10874528 0.10901826 0.10673516 0.10661108 0.10539508\n",
      " 0.1060403  0.11355966 0.1140808  0.11909371 0.11678579 0.10728112\n",
      " 0.10812488 0.11182251 0.1155946  0.11537125 0.11224439 0.11020945\n",
      " 0.11283998 0.12405698 0.12085567 0.11664689 0.11796341 0.1189508\n",
      " 0.11964721 0.12014756 0.12053506 0.1208643  0.12116551 0.12145338\n",
      " 0.12173481 0.1220132  0.12229079 0.1225694 ]\n",
      "13 day output [[0.12285041]]\n",
      "14 day input [0.07030474 0.07298491 0.06134604 0.06196645 0.06603633 0.0672027\n",
      " 0.0588644  0.05653167 0.04873933 0.05419893 0.06035338 0.05742505\n",
      " 0.05390113 0.05350407 0.06000596 0.05534048 0.05948481 0.05898849\n",
      " 0.0588644  0.05496824 0.05330554 0.0524866  0.05442228 0.05065019\n",
      " 0.05648203 0.05650685 0.05859142 0.05955926 0.05702799 0.06010522\n",
      " 0.06787274 0.06578817 0.0670538  0.07112368 0.06782311 0.07238932\n",
      " 0.07655847 0.07586361 0.07514393 0.07439944 0.07854378 0.08239031\n",
      " 0.08395374 0.08472305 0.09139865 0.09651082 0.10283899 0.09953842\n",
      " 0.10417907 0.10266528 0.10549434 0.11420488 0.11254219 0.10735557\n",
      " 0.09757792 0.10675998 0.10489875 0.10837304 0.11274072 0.11380782\n",
      " 0.10829859 0.10385646 0.10549434 0.1060403  0.10519655 0.10976276\n",
      " 0.10874528 0.10901826 0.10673516 0.10661108 0.10539508 0.1060403\n",
      " 0.11355966 0.1140808  0.11909371 0.11678579 0.10728112 0.10812488\n",
      " 0.11182251 0.1155946  0.11537125 0.11224439 0.11020945 0.11283998\n",
      " 0.12405698 0.12085567 0.11664689 0.11796341 0.1189508  0.11964721\n",
      " 0.12014756 0.12053506 0.1208643  0.12116551 0.12145338 0.12173481\n",
      " 0.1220132  0.12229079 0.1225694  0.12285041]\n",
      "14 day output [[0.12313502]]\n",
      "15 day input [0.07298491 0.06134604 0.06196645 0.06603633 0.0672027  0.0588644\n",
      " 0.05653167 0.04873933 0.05419893 0.06035338 0.05742505 0.05390113\n",
      " 0.05350407 0.06000596 0.05534048 0.05948481 0.05898849 0.0588644\n",
      " 0.05496824 0.05330554 0.0524866  0.05442228 0.05065019 0.05648203\n",
      " 0.05650685 0.05859142 0.05955926 0.05702799 0.06010522 0.06787274\n",
      " 0.06578817 0.0670538  0.07112368 0.06782311 0.07238932 0.07655847\n",
      " 0.07586361 0.07514393 0.07439944 0.07854378 0.08239031 0.08395374\n",
      " 0.08472305 0.09139865 0.09651082 0.10283899 0.09953842 0.10417907\n",
      " 0.10266528 0.10549434 0.11420488 0.11254219 0.10735557 0.09757792\n",
      " 0.10675998 0.10489875 0.10837304 0.11274072 0.11380782 0.10829859\n",
      " 0.10385646 0.10549434 0.1060403  0.10519655 0.10976276 0.10874528\n",
      " 0.10901826 0.10673516 0.10661108 0.10539508 0.1060403  0.11355966\n",
      " 0.1140808  0.11909371 0.11678579 0.10728112 0.10812488 0.11182251\n",
      " 0.1155946  0.11537125 0.11224439 0.11020945 0.11283998 0.12405698\n",
      " 0.12085567 0.11664689 0.11796341 0.1189508  0.11964721 0.12014756\n",
      " 0.12053506 0.1208643  0.12116551 0.12145338 0.12173481 0.1220132\n",
      " 0.12229079 0.1225694  0.12285041 0.12313502]\n",
      "15 day output [[0.12342384]]\n",
      "16 day input [0.06134604 0.06196645 0.06603633 0.0672027  0.0588644  0.05653167\n",
      " 0.04873933 0.05419893 0.06035338 0.05742505 0.05390113 0.05350407\n",
      " 0.06000596 0.05534048 0.05948481 0.05898849 0.0588644  0.05496824\n",
      " 0.05330554 0.0524866  0.05442228 0.05065019 0.05648203 0.05650685\n",
      " 0.05859142 0.05955926 0.05702799 0.06010522 0.06787274 0.06578817\n",
      " 0.0670538  0.07112368 0.06782311 0.07238932 0.07655847 0.07586361\n",
      " 0.07514393 0.07439944 0.07854378 0.08239031 0.08395374 0.08472305\n",
      " 0.09139865 0.09651082 0.10283899 0.09953842 0.10417907 0.10266528\n",
      " 0.10549434 0.11420488 0.11254219 0.10735557 0.09757792 0.10675998\n",
      " 0.10489875 0.10837304 0.11274072 0.11380782 0.10829859 0.10385646\n",
      " 0.10549434 0.1060403  0.10519655 0.10976276 0.10874528 0.10901826\n",
      " 0.10673516 0.10661108 0.10539508 0.1060403  0.11355966 0.1140808\n",
      " 0.11909371 0.11678579 0.10728112 0.10812488 0.11182251 0.1155946\n",
      " 0.11537125 0.11224439 0.11020945 0.11283998 0.12405698 0.12085567\n",
      " 0.11664689 0.11796341 0.1189508  0.11964721 0.12014756 0.12053506\n",
      " 0.1208643  0.12116551 0.12145338 0.12173481 0.1220132  0.12229079\n",
      " 0.1225694  0.12285041 0.12313502 0.12342384]\n",
      "16 day output [[0.12371701]]\n",
      "17 day input [0.06196645 0.06603633 0.0672027  0.0588644  0.05653167 0.04873933\n",
      " 0.05419893 0.06035338 0.05742505 0.05390113 0.05350407 0.06000596\n",
      " 0.05534048 0.05948481 0.05898849 0.0588644  0.05496824 0.05330554\n",
      " 0.0524866  0.05442228 0.05065019 0.05648203 0.05650685 0.05859142\n",
      " 0.05955926 0.05702799 0.06010522 0.06787274 0.06578817 0.0670538\n",
      " 0.07112368 0.06782311 0.07238932 0.07655847 0.07586361 0.07514393\n",
      " 0.07439944 0.07854378 0.08239031 0.08395374 0.08472305 0.09139865\n",
      " 0.09651082 0.10283899 0.09953842 0.10417907 0.10266528 0.10549434\n",
      " 0.11420488 0.11254219 0.10735557 0.09757792 0.10675998 0.10489875\n",
      " 0.10837304 0.11274072 0.11380782 0.10829859 0.10385646 0.10549434\n",
      " 0.1060403  0.10519655 0.10976276 0.10874528 0.10901826 0.10673516\n",
      " 0.10661108 0.10539508 0.1060403  0.11355966 0.1140808  0.11909371\n",
      " 0.11678579 0.10728112 0.10812488 0.11182251 0.1155946  0.11537125\n",
      " 0.11224439 0.11020945 0.11283998 0.12405698 0.12085567 0.11664689\n",
      " 0.11796341 0.1189508  0.11964721 0.12014756 0.12053506 0.1208643\n",
      " 0.12116551 0.12145338 0.12173481 0.1220132  0.12229079 0.1225694\n",
      " 0.12285041 0.12313502 0.12342384 0.12371701]\n",
      "17 day output [[0.12401428]]\n",
      "18 day input [0.06603633 0.0672027  0.0588644  0.05653167 0.04873933 0.05419893\n",
      " 0.06035338 0.05742505 0.05390113 0.05350407 0.06000596 0.05534048\n",
      " 0.05948481 0.05898849 0.0588644  0.05496824 0.05330554 0.0524866\n",
      " 0.05442228 0.05065019 0.05648203 0.05650685 0.05859142 0.05955926\n",
      " 0.05702799 0.06010522 0.06787274 0.06578817 0.0670538  0.07112368\n",
      " 0.06782311 0.07238932 0.07655847 0.07586361 0.07514393 0.07439944\n",
      " 0.07854378 0.08239031 0.08395374 0.08472305 0.09139865 0.09651082\n",
      " 0.10283899 0.09953842 0.10417907 0.10266528 0.10549434 0.11420488\n",
      " 0.11254219 0.10735557 0.09757792 0.10675998 0.10489875 0.10837304\n",
      " 0.11274072 0.11380782 0.10829859 0.10385646 0.10549434 0.1060403\n",
      " 0.10519655 0.10976276 0.10874528 0.10901826 0.10673516 0.10661108\n",
      " 0.10539508 0.1060403  0.11355966 0.1140808  0.11909371 0.11678579\n",
      " 0.10728112 0.10812488 0.11182251 0.1155946  0.11537125 0.11224439\n",
      " 0.11020945 0.11283998 0.12405698 0.12085567 0.11664689 0.11796341\n",
      " 0.1189508  0.11964721 0.12014756 0.12053506 0.1208643  0.12116551\n",
      " 0.12145338 0.12173481 0.1220132  0.12229079 0.1225694  0.12285041\n",
      " 0.12313502 0.12342384 0.12371701 0.12401428]\n",
      "18 day output [[0.12431506]]\n",
      "19 day input [0.0672027  0.0588644  0.05653167 0.04873933 0.05419893 0.06035338\n",
      " 0.05742505 0.05390113 0.05350407 0.06000596 0.05534048 0.05948481\n",
      " 0.05898849 0.0588644  0.05496824 0.05330554 0.0524866  0.05442228\n",
      " 0.05065019 0.05648203 0.05650685 0.05859142 0.05955926 0.05702799\n",
      " 0.06010522 0.06787274 0.06578817 0.0670538  0.07112368 0.06782311\n",
      " 0.07238932 0.07655847 0.07586361 0.07514393 0.07439944 0.07854378\n",
      " 0.08239031 0.08395374 0.08472305 0.09139865 0.09651082 0.10283899\n",
      " 0.09953842 0.10417907 0.10266528 0.10549434 0.11420488 0.11254219\n",
      " 0.10735557 0.09757792 0.10675998 0.10489875 0.10837304 0.11274072\n",
      " 0.11380782 0.10829859 0.10385646 0.10549434 0.1060403  0.10519655\n",
      " 0.10976276 0.10874528 0.10901826 0.10673516 0.10661108 0.10539508\n",
      " 0.1060403  0.11355966 0.1140808  0.11909371 0.11678579 0.10728112\n",
      " 0.10812488 0.11182251 0.1155946  0.11537125 0.11224439 0.11020945\n",
      " 0.11283998 0.12405698 0.12085567 0.11664689 0.11796341 0.1189508\n",
      " 0.11964721 0.12014756 0.12053506 0.1208643  0.12116551 0.12145338\n",
      " 0.12173481 0.1220132  0.12229079 0.1225694  0.12285041 0.12313502\n",
      " 0.12342384 0.12371701 0.12401428 0.12431506]\n",
      "19 day output [[0.12461846]]\n",
      "20 day input [0.0588644  0.05653167 0.04873933 0.05419893 0.06035338 0.05742505\n",
      " 0.05390113 0.05350407 0.06000596 0.05534048 0.05948481 0.05898849\n",
      " 0.0588644  0.05496824 0.05330554 0.0524866  0.05442228 0.05065019\n",
      " 0.05648203 0.05650685 0.05859142 0.05955926 0.05702799 0.06010522\n",
      " 0.06787274 0.06578817 0.0670538  0.07112368 0.06782311 0.07238932\n",
      " 0.07655847 0.07586361 0.07514393 0.07439944 0.07854378 0.08239031\n",
      " 0.08395374 0.08472305 0.09139865 0.09651082 0.10283899 0.09953842\n",
      " 0.10417907 0.10266528 0.10549434 0.11420488 0.11254219 0.10735557\n",
      " 0.09757792 0.10675998 0.10489875 0.10837304 0.11274072 0.11380782\n",
      " 0.10829859 0.10385646 0.10549434 0.1060403  0.10519655 0.10976276\n",
      " 0.10874528 0.10901826 0.10673516 0.10661108 0.10539508 0.1060403\n",
      " 0.11355966 0.1140808  0.11909371 0.11678579 0.10728112 0.10812488\n",
      " 0.11182251 0.1155946  0.11537125 0.11224439 0.11020945 0.11283998\n",
      " 0.12405698 0.12085567 0.11664689 0.11796341 0.1189508  0.11964721\n",
      " 0.12014756 0.12053506 0.1208643  0.12116551 0.12145338 0.12173481\n",
      " 0.1220132  0.12229079 0.1225694  0.12285041 0.12313502 0.12342384\n",
      " 0.12371701 0.12401428 0.12431506 0.12461846]\n",
      "20 day output [[0.12492356]]\n",
      "21 day input [0.05653167 0.04873933 0.05419893 0.06035338 0.05742505 0.05390113\n",
      " 0.05350407 0.06000596 0.05534048 0.05948481 0.05898849 0.0588644\n",
      " 0.05496824 0.05330554 0.0524866  0.05442228 0.05065019 0.05648203\n",
      " 0.05650685 0.05859142 0.05955926 0.05702799 0.06010522 0.06787274\n",
      " 0.06578817 0.0670538  0.07112368 0.06782311 0.07238932 0.07655847\n",
      " 0.07586361 0.07514393 0.07439944 0.07854378 0.08239031 0.08395374\n",
      " 0.08472305 0.09139865 0.09651082 0.10283899 0.09953842 0.10417907\n",
      " 0.10266528 0.10549434 0.11420488 0.11254219 0.10735557 0.09757792\n",
      " 0.10675998 0.10489875 0.10837304 0.11274072 0.11380782 0.10829859\n",
      " 0.10385646 0.10549434 0.1060403  0.10519655 0.10976276 0.10874528\n",
      " 0.10901826 0.10673516 0.10661108 0.10539508 0.1060403  0.11355966\n",
      " 0.1140808  0.11909371 0.11678579 0.10728112 0.10812488 0.11182251\n",
      " 0.1155946  0.11537125 0.11224439 0.11020945 0.11283998 0.12405698\n",
      " 0.12085567 0.11664689 0.11796341 0.1189508  0.11964721 0.12014756\n",
      " 0.12053506 0.1208643  0.12116551 0.12145338 0.12173481 0.1220132\n",
      " 0.12229079 0.1225694  0.12285041 0.12313502 0.12342384 0.12371701\n",
      " 0.12401428 0.12431506 0.12461846 0.12492356]\n",
      "21 day output [[0.12522921]]\n",
      "22 day input [0.04873933 0.05419893 0.06035338 0.05742505 0.05390113 0.05350407\n",
      " 0.06000596 0.05534048 0.05948481 0.05898849 0.0588644  0.05496824\n",
      " 0.05330554 0.0524866  0.05442228 0.05065019 0.05648203 0.05650685\n",
      " 0.05859142 0.05955926 0.05702799 0.06010522 0.06787274 0.06578817\n",
      " 0.0670538  0.07112368 0.06782311 0.07238932 0.07655847 0.07586361\n",
      " 0.07514393 0.07439944 0.07854378 0.08239031 0.08395374 0.08472305\n",
      " 0.09139865 0.09651082 0.10283899 0.09953842 0.10417907 0.10266528\n",
      " 0.10549434 0.11420488 0.11254219 0.10735557 0.09757792 0.10675998\n",
      " 0.10489875 0.10837304 0.11274072 0.11380782 0.10829859 0.10385646\n",
      " 0.10549434 0.1060403  0.10519655 0.10976276 0.10874528 0.10901826\n",
      " 0.10673516 0.10661108 0.10539508 0.1060403  0.11355966 0.1140808\n",
      " 0.11909371 0.11678579 0.10728112 0.10812488 0.11182251 0.1155946\n",
      " 0.11537125 0.11224439 0.11020945 0.11283998 0.12405698 0.12085567\n",
      " 0.11664689 0.11796341 0.1189508  0.11964721 0.12014756 0.12053506\n",
      " 0.1208643  0.12116551 0.12145338 0.12173481 0.1220132  0.12229079\n",
      " 0.1225694  0.12285041 0.12313502 0.12342384 0.12371701 0.12401428\n",
      " 0.12431506 0.12461846 0.12492356 0.12522921]\n",
      "22 day output [[0.12553433]]\n",
      "23 day input [0.05419893 0.06035338 0.05742505 0.05390113 0.05350407 0.06000596\n",
      " 0.05534048 0.05948481 0.05898849 0.0588644  0.05496824 0.05330554\n",
      " 0.0524866  0.05442228 0.05065019 0.05648203 0.05650685 0.05859142\n",
      " 0.05955926 0.05702799 0.06010522 0.06787274 0.06578817 0.0670538\n",
      " 0.07112368 0.06782311 0.07238932 0.07655847 0.07586361 0.07514393\n",
      " 0.07439944 0.07854378 0.08239031 0.08395374 0.08472305 0.09139865\n",
      " 0.09651082 0.10283899 0.09953842 0.10417907 0.10266528 0.10549434\n",
      " 0.11420488 0.11254219 0.10735557 0.09757792 0.10675998 0.10489875\n",
      " 0.10837304 0.11274072 0.11380782 0.10829859 0.10385646 0.10549434\n",
      " 0.1060403  0.10519655 0.10976276 0.10874528 0.10901826 0.10673516\n",
      " 0.10661108 0.10539508 0.1060403  0.11355966 0.1140808  0.11909371\n",
      " 0.11678579 0.10728112 0.10812488 0.11182251 0.1155946  0.11537125\n",
      " 0.11224439 0.11020945 0.11283998 0.12405698 0.12085567 0.11664689\n",
      " 0.11796341 0.1189508  0.11964721 0.12014756 0.12053506 0.1208643\n",
      " 0.12116551 0.12145338 0.12173481 0.1220132  0.12229079 0.1225694\n",
      " 0.12285041 0.12313502 0.12342384 0.12371701 0.12401428 0.12431506\n",
      " 0.12461846 0.12492356 0.12522921 0.12553433]\n",
      "23 day output [[0.1258379]]\n",
      "24 day input [0.06035338 0.05742505 0.05390113 0.05350407 0.06000596 0.05534048\n",
      " 0.05948481 0.05898849 0.0588644  0.05496824 0.05330554 0.0524866\n",
      " 0.05442228 0.05065019 0.05648203 0.05650685 0.05859142 0.05955926\n",
      " 0.05702799 0.06010522 0.06787274 0.06578817 0.0670538  0.07112368\n",
      " 0.06782311 0.07238932 0.07655847 0.07586361 0.07514393 0.07439944\n",
      " 0.07854378 0.08239031 0.08395374 0.08472305 0.09139865 0.09651082\n",
      " 0.10283899 0.09953842 0.10417907 0.10266528 0.10549434 0.11420488\n",
      " 0.11254219 0.10735557 0.09757792 0.10675998 0.10489875 0.10837304\n",
      " 0.11274072 0.11380782 0.10829859 0.10385646 0.10549434 0.1060403\n",
      " 0.10519655 0.10976276 0.10874528 0.10901826 0.10673516 0.10661108\n",
      " 0.10539508 0.1060403  0.11355966 0.1140808  0.11909371 0.11678579\n",
      " 0.10728112 0.10812488 0.11182251 0.1155946  0.11537125 0.11224439\n",
      " 0.11020945 0.11283998 0.12405698 0.12085567 0.11664689 0.11796341\n",
      " 0.1189508  0.11964721 0.12014756 0.12053506 0.1208643  0.12116551\n",
      " 0.12145338 0.12173481 0.1220132  0.12229079 0.1225694  0.12285041\n",
      " 0.12313502 0.12342384 0.12371701 0.12401428 0.12431506 0.12461846\n",
      " 0.12492356 0.12522921 0.12553433 0.12583791]\n",
      "24 day output [[0.12613906]]\n",
      "25 day input [0.05742505 0.05390113 0.05350407 0.06000596 0.05534048 0.05948481\n",
      " 0.05898849 0.0588644  0.05496824 0.05330554 0.0524866  0.05442228\n",
      " 0.05065019 0.05648203 0.05650685 0.05859142 0.05955926 0.05702799\n",
      " 0.06010522 0.06787274 0.06578817 0.0670538  0.07112368 0.06782311\n",
      " 0.07238932 0.07655847 0.07586361 0.07514393 0.07439944 0.07854378\n",
      " 0.08239031 0.08395374 0.08472305 0.09139865 0.09651082 0.10283899\n",
      " 0.09953842 0.10417907 0.10266528 0.10549434 0.11420488 0.11254219\n",
      " 0.10735557 0.09757792 0.10675998 0.10489875 0.10837304 0.11274072\n",
      " 0.11380782 0.10829859 0.10385646 0.10549434 0.1060403  0.10519655\n",
      " 0.10976276 0.10874528 0.10901826 0.10673516 0.10661108 0.10539508\n",
      " 0.1060403  0.11355966 0.1140808  0.11909371 0.11678579 0.10728112\n",
      " 0.10812488 0.11182251 0.1155946  0.11537125 0.11224439 0.11020945\n",
      " 0.11283998 0.12405698 0.12085567 0.11664689 0.11796341 0.1189508\n",
      " 0.11964721 0.12014756 0.12053506 0.1208643  0.12116551 0.12145338\n",
      " 0.12173481 0.1220132  0.12229079 0.1225694  0.12285041 0.12313502\n",
      " 0.12342384 0.12371701 0.12401428 0.12431506 0.12461846 0.12492356\n",
      " 0.12522921 0.12553433 0.12583791 0.12613906]\n",
      "25 day output [[0.12643692]]\n",
      "26 day input [0.05390113 0.05350407 0.06000596 0.05534048 0.05948481 0.05898849\n",
      " 0.0588644  0.05496824 0.05330554 0.0524866  0.05442228 0.05065019\n",
      " 0.05648203 0.05650685 0.05859142 0.05955926 0.05702799 0.06010522\n",
      " 0.06787274 0.06578817 0.0670538  0.07112368 0.06782311 0.07238932\n",
      " 0.07655847 0.07586361 0.07514393 0.07439944 0.07854378 0.08239031\n",
      " 0.08395374 0.08472305 0.09139865 0.09651082 0.10283899 0.09953842\n",
      " 0.10417907 0.10266528 0.10549434 0.11420488 0.11254219 0.10735557\n",
      " 0.09757792 0.10675998 0.10489875 0.10837304 0.11274072 0.11380782\n",
      " 0.10829859 0.10385646 0.10549434 0.1060403  0.10519655 0.10976276\n",
      " 0.10874528 0.10901826 0.10673516 0.10661108 0.10539508 0.1060403\n",
      " 0.11355966 0.1140808  0.11909371 0.11678579 0.10728112 0.10812488\n",
      " 0.11182251 0.1155946  0.11537125 0.11224439 0.11020945 0.11283998\n",
      " 0.12405698 0.12085567 0.11664689 0.11796341 0.1189508  0.11964721\n",
      " 0.12014756 0.12053506 0.1208643  0.12116551 0.12145338 0.12173481\n",
      " 0.1220132  0.12229079 0.1225694  0.12285041 0.12313502 0.12342384\n",
      " 0.12371701 0.12401428 0.12431506 0.12461846 0.12492356 0.12522921\n",
      " 0.12553433 0.12583791 0.12613906 0.12643692]\n",
      "26 day output [[0.12673089]]\n",
      "27 day input [0.05350407 0.06000596 0.05534048 0.05948481 0.05898849 0.0588644\n",
      " 0.05496824 0.05330554 0.0524866  0.05442228 0.05065019 0.05648203\n",
      " 0.05650685 0.05859142 0.05955926 0.05702799 0.06010522 0.06787274\n",
      " 0.06578817 0.0670538  0.07112368 0.06782311 0.07238932 0.07655847\n",
      " 0.07586361 0.07514393 0.07439944 0.07854378 0.08239031 0.08395374\n",
      " 0.08472305 0.09139865 0.09651082 0.10283899 0.09953842 0.10417907\n",
      " 0.10266528 0.10549434 0.11420488 0.11254219 0.10735557 0.09757792\n",
      " 0.10675998 0.10489875 0.10837304 0.11274072 0.11380782 0.10829859\n",
      " 0.10385646 0.10549434 0.1060403  0.10519655 0.10976276 0.10874528\n",
      " 0.10901826 0.10673516 0.10661108 0.10539508 0.1060403  0.11355966\n",
      " 0.1140808  0.11909371 0.11678579 0.10728112 0.10812488 0.11182251\n",
      " 0.1155946  0.11537125 0.11224439 0.11020945 0.11283998 0.12405698\n",
      " 0.12085567 0.11664689 0.11796341 0.1189508  0.11964721 0.12014756\n",
      " 0.12053506 0.1208643  0.12116551 0.12145338 0.12173481 0.1220132\n",
      " 0.12229079 0.1225694  0.12285041 0.12313502 0.12342384 0.12371701\n",
      " 0.12401428 0.12431506 0.12461846 0.12492356 0.12522921 0.12553433\n",
      " 0.12583791 0.12613906 0.12643692 0.12673089]\n",
      "27 day output [[0.12702043]]\n",
      "28 day input [0.06000596 0.05534048 0.05948481 0.05898849 0.0588644  0.05496824\n",
      " 0.05330554 0.0524866  0.05442228 0.05065019 0.05648203 0.05650685\n",
      " 0.05859142 0.05955926 0.05702799 0.06010522 0.06787274 0.06578817\n",
      " 0.0670538  0.07112368 0.06782311 0.07238932 0.07655847 0.07586361\n",
      " 0.07514393 0.07439944 0.07854378 0.08239031 0.08395374 0.08472305\n",
      " 0.09139865 0.09651082 0.10283899 0.09953842 0.10417907 0.10266528\n",
      " 0.10549434 0.11420488 0.11254219 0.10735557 0.09757792 0.10675998\n",
      " 0.10489875 0.10837304 0.11274072 0.11380782 0.10829859 0.10385646\n",
      " 0.10549434 0.1060403  0.10519655 0.10976276 0.10874528 0.10901826\n",
      " 0.10673516 0.10661108 0.10539508 0.1060403  0.11355966 0.1140808\n",
      " 0.11909371 0.11678579 0.10728112 0.10812488 0.11182251 0.1155946\n",
      " 0.11537125 0.11224439 0.11020945 0.11283998 0.12405698 0.12085567\n",
      " 0.11664689 0.11796341 0.1189508  0.11964721 0.12014756 0.12053506\n",
      " 0.1208643  0.12116551 0.12145338 0.12173481 0.1220132  0.12229079\n",
      " 0.1225694  0.12285041 0.12313502 0.12342384 0.12371701 0.12401428\n",
      " 0.12431506 0.12461846 0.12492356 0.12522921 0.12553433 0.12583791\n",
      " 0.12613906 0.12643692 0.12673089 0.12702043]\n",
      "28 day output [[0.12730522]]\n",
      "29 day input [0.05534048 0.05948481 0.05898849 0.0588644  0.05496824 0.05330554\n",
      " 0.0524866  0.05442228 0.05065019 0.05648203 0.05650685 0.05859142\n",
      " 0.05955926 0.05702799 0.06010522 0.06787274 0.06578817 0.0670538\n",
      " 0.07112368 0.06782311 0.07238932 0.07655847 0.07586361 0.07514393\n",
      " 0.07439944 0.07854378 0.08239031 0.08395374 0.08472305 0.09139865\n",
      " 0.09651082 0.10283899 0.09953842 0.10417907 0.10266528 0.10549434\n",
      " 0.11420488 0.11254219 0.10735557 0.09757792 0.10675998 0.10489875\n",
      " 0.10837304 0.11274072 0.11380782 0.10829859 0.10385646 0.10549434\n",
      " 0.1060403  0.10519655 0.10976276 0.10874528 0.10901826 0.10673516\n",
      " 0.10661108 0.10539508 0.1060403  0.11355966 0.1140808  0.11909371\n",
      " 0.11678579 0.10728112 0.10812488 0.11182251 0.1155946  0.11537125\n",
      " 0.11224439 0.11020945 0.11283998 0.12405698 0.12085567 0.11664689\n",
      " 0.11796341 0.1189508  0.11964721 0.12014756 0.12053506 0.1208643\n",
      " 0.12116551 0.12145338 0.12173481 0.1220132  0.12229079 0.1225694\n",
      " 0.12285041 0.12313502 0.12342384 0.12371701 0.12401428 0.12431506\n",
      " 0.12461846 0.12492356 0.12522921 0.12553433 0.12583791 0.12613906\n",
      " 0.12643692 0.12673089 0.12702043 0.12730522]\n",
      "29 day output [[0.12758498]]\n",
      "[[0.1166468933224678], [0.11796341091394424], [0.11895079910755157], [0.11964721232652664], [0.12014755606651306], [0.12053506076335907], [0.12086430191993713], [0.12116551399230957], [0.12145338207483292], [0.12173481285572052], [0.12201319634914398], [0.12229079008102417], [0.12256939709186554], [0.12285041064023972], [0.1231350228190422], [0.12342383712530136], [0.12371701002120972], [0.12401428073644638], [0.1243150606751442], [0.12461845576763153], [0.12492356449365616], [0.12522920966148376], [0.125534325838089], [0.12583790719509125], [0.1261390596628189], [0.12643691897392273], [0.12673088908195496], [0.1270204335451126], [0.12730522453784943], [0.12758497893810272]]\n"
     ]
    }
   ],
   "source": [
    "# demonstrate prediction for next 10 days\n",
    "from numpy import array\n",
    "\n",
    "lst_output=[]\n",
    "n_steps=100\n",
    "i=0\n",
    "while(i<30):\n",
    "    \n",
    "    if(len(temp_input)>100):\n",
    "        #print(temp_input)\n",
    "        x_input=np.array(temp_input[1:])\n",
    "        print(\"{} day input {}\".format(i,x_input))\n",
    "        x_input=x_input.reshape(1,-1)\n",
    "        x_input = x_input.reshape((1, n_steps, 1))\n",
    "        #print(x_input)\n",
    "        yhat = model.predict(x_input, verbose=0)\n",
    "        print(\"{} day output {}\".format(i,yhat))\n",
    "        temp_input.extend(yhat[0].tolist())\n",
    "        temp_input=temp_input[1:]\n",
    "        #print(temp_input)\n",
    "        lst_output.extend(yhat.tolist())\n",
    "        i=i+1\n",
    "    else:\n",
    "        x_input = x_input.reshape((1, n_steps,1))\n",
    "        yhat = model.predict(x_input, verbose=0)\n",
    "        print(yhat[0])\n",
    "        temp_input.extend(yhat[0].tolist())\n",
    "        print(len(temp_input))\n",
    "        lst_output.extend(yhat.tolist())\n",
    "        i=i+1\n",
    "    \n",
    "\n",
    "print(lst_output)"
   ]
  },
  {
   "cell_type": "code",
   "execution_count": 49,
   "id": "6310fc45",
   "metadata": {},
   "outputs": [],
   "source": [
    "day_new = np.arange(1,101)\n",
    "day_pred = np.arange(101,131)"
   ]
  },
  {
   "cell_type": "code",
   "execution_count": 50,
   "id": "f80acae7",
   "metadata": {},
   "outputs": [
    {
     "data": {
      "text/plain": [
       "1257"
      ]
     },
     "execution_count": 50,
     "metadata": {},
     "output_type": "execute_result"
    }
   ],
   "source": [
    "import matplotlib.pyplot as plt\n",
    "len(df1)"
   ]
  },
  {
   "cell_type": "code",
   "execution_count": 52,
   "id": "2989ee6c",
   "metadata": {},
   "outputs": [
    {
     "data": {
      "image/png": "[encoded data removed]",
      "text/plain": [
       "<Figure size 640x480 with 1 Axes>"
      ]
     },
     "metadata": {},
     "output_type": "display_data"
    }
   ],
   "source": [
    "plt.plot(day_new,scaler.inverse_transform(df1[1157:]))\n",
    "plt.plot(day_pred,scaler.inverse_transform(lst_output))\n",
    "plt.show()"
   ]
  },
  {
   "cell_type": "code",
   "execution_count": 53,
   "id": "1a6c1ba3",
   "metadata": {},
   "outputs": [
    {
     "data": {
      "image/png": "[encoded data removed]",
      "text/plain": [
       "<Figure size 640x480 with 1 Axes>"
      ]
     },
     "metadata": {},
     "output_type": "display_data"
    }
   ],
   "source": [
    "df3 = df1.tolist()\n",
    "df3.extend(lst_output)\n",
    "plt.plot(df3[1200:])\n",
    "plt.show()"
   ]
  },
  {
   "cell_type": "code",
   "execution_count": 54,
   "id": "b31a4cde",
   "metadata": {},
   "outputs": [
    {
     "data": {
      "image/png": "[encoded data removed]",
      "text/plain": [
       "<Figure size 640x480 with 1 Axes>"
      ]
     },
     "metadata": {},
     "output_type": "display_data"
    }
   ],
   "source": [
    "## adding prediction to the original graph\n",
    "df3=scaler.inverse_transform(df3).tolist()\n",
    "plt.plot(df3)\n",
    "plt.show()"
   ]
  },
  {
   "cell_type": "code",
   "execution_count": null,
   "id": "f9051333",
   "metadata": {},
   "outputs": [],
   "source": []
  }
 ],
 "metadata": {
  "kernelspec": {
   "display_name": "Python 3",
   "language": "python",
   "name": "python3"
  },
  "language_info": {
   "codemirror_mode": {
    "name": "ipython",
    "version": 3
   },
   "file_extension": ".py",
   "mimetype": "text/x-python",
   "name": "python",
   "nbconvert_exporter": "python",
   "pygments_lexer": "ipython3",
   "version": "3.8.11"
  }
 },
 "nbformat": 4,
 "nbformat_minor": 5
}
